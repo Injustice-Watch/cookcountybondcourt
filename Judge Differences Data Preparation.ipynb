{
 "cells": [
  {
   "cell_type": "code",
   "execution_count": null,
   "metadata": {
    "collapsed": false
   },
   "outputs": [],
   "source": [
    "%matplotlib inline\n",
    "\n",
    "import matplotlib\n",
    "import numpy as np\n",
    "import pandas as pd\n",
    "import datetime\n",
    "import dateparser\n",
    "import dateutil\n",
    "import re\n",
    "import random\n",
    "import matplotlib.pyplot as plt"
   ]
  },
  {
   "cell_type": "code",
   "execution_count": null,
   "metadata": {
    "collapsed": false
   },
   "outputs": [],
   "source": [
    "date_code = {\n",
    "    np.nan: \"00\",\n",
    "    None: \"00\",\n",
    "    \"7/11/16\" : \"01\",\n",
    "    \"7/12/16\" : \"02\",\n",
    "    \"7/13/16\" : \"03\",\n",
    "    \"7/14/16\" : \"04\",\n",
    "    \"7/15/16\" : \"05\",\n",
    "    \"7/5/16\" : \"06\",\n",
    "    \"7/6/16\" : \"07\",\n",
    "    \"7/7/16\" : \"08\",\n",
    "    \"7/8/16\" : \"09\",\n",
    "    \"8/30/16\" : \"10\",\n",
    "    \"8/31/16\" : \"11\",\n",
    "    \"9/1/16\" : \"12\",\n",
    "    \"9/12/16\" : \"13\",\n",
    "    \"9/13/16\" : \"14\",\n",
    "    \"9/14/16\" : \"15\",\n",
    "    \"9/15/16\" : \"16\",\n",
    "    \"9/19/16\" : \"17\",\n",
    "    \"9/2/16\" : \"18\",\n",
    "    \"9/20/16\" : \"19\",\n",
    "    \"9/21/16\" : \"20\",\n",
    "    \"9/22/16\" : \"21\",\n",
    "    \"9/23/16\" : \"22\",\n",
    "    \"9/6/16\" : \"23\",\n",
    "    \"9/7/16\" : \"24\",\n",
    "    \"9/8/16\" : \"25\",\n",
    "    \"9/9/16\" : \"26\"\n",
    "}\n",
    "courthouse_code = {\n",
    "    np.nan: \"00\",\n",
    "    None : \"0\",\n",
    "    \"Bridgeview\" : \"1\",\n",
    "    \"Central\" : \"2\",\n",
    "    \"Markham\" : \"3\",\n",
    "    \"Maywood\" : \"4\",\n",
    "    \"Rolling Meadows\" : \"5\",\n",
    "    \"Skokie\" : \"6\"\n",
    "}\n",
    "observer_code = {\n",
    "    np.nan: \"00\",\n",
    "    None : \"00\",\n",
    "    \"Adrienne\" : \"01\",\n",
    "    \"Adrienne & Monica\" : \"02\",\n",
    "    \"Adrienne & Sam\" : \"03\",\n",
    "    \"Amani\" : \"04\",\n",
    "    \"Amani & Asif\" : \"05\",\n",
    "    \"Amani & Maya\" : \"06\",\n",
    "    \"Asif\" : \"07\",\n",
    "    \"Camille\" : \"08\",\n",
    "    \"Emily\" : \"09\",\n",
    "    \"Emily & Sam\" : \"10\",\n",
    "    \"Maya & Hafsa\" : \"11\",\n",
    "    \"Hafsa & Maya\" : \"11\",\n",
    "    \"Jeanne\" : \"12\",\n",
    "    \"Leonor\" : \"13\",\n",
    "    \"Sam\": \"14\",\n",
    "    \"Maya & Asif\" : \"15\",\n",
    "    \"Leonor & Maya\" : \"16\",\n",
    "    \"Maya\": \"17\",\n",
    "    \"Maya J\": \"18\"\n",
    "}"
   ]
  },
  {
   "cell_type": "code",
   "execution_count": null,
   "metadata": {
    "collapsed": false
   },
   "outputs": [],
   "source": [
    "remove_charges = set([])\n",
    "charges = pd.read_csv(\"../Data/Helper Data/Unique Charges from Court.csv\")\n",
    "charge_dict = {}\n",
    "for i, row in charges.iterrows():\n",
    "    if row[\"EXCLUDE\"] == \"YES\":\n",
    "        remove_charges.add(row[\"CRIME\"])\n",
    "        continue\n",
    "        \n",
    "    charge_dict[row[\"CRIME\"]] = {\n",
    "        \"Violent\" : row[\"VIOLENT\"],\n",
    "        \"Criminal Justice System Related\" : row[\"CJS RELATED CRIME\"],\n",
    "        \"Gun Related\" : row[\"GUN INVOLVED\"],\n",
    "        \"Police Related\" : row[\"POLICE RELATED CRIME\"],\n",
    "        \"Broad Charge Type\" : row[\"BROAD TYPE\"],\n",
    "        \"Narrow Charge Type\" : row[\"NARROW TYPE\"]\n",
    "    }"
   ]
  },
  {
   "cell_type": "code",
   "execution_count": null,
   "metadata": {
    "collapsed": false
   },
   "outputs": [],
   "source": [
    "df = pd.read_csv(\"../Data/Cleaned Data/Cleaned_Courthouse_9.csv\", header = 0)"
   ]
  },
  {
   "cell_type": "code",
   "execution_count": null,
   "metadata": {
    "collapsed": false
   },
   "outputs": [],
   "source": [
    "new_col = []\n",
    "for duration in df[\"Duration\"]:\n",
    "    if pd.notnull(duration):\n",
    "        hours, minutes, seconds = [int(x) for x in duration.split(\":\")]\n",
    "        time = datetime.timedelta(hours = hours, minutes = minutes, seconds= seconds)\n",
    "        new_col.append(time)\n",
    "    else:\n",
    "        new_col.append(None)\n",
    "df[\"Duration\"] = new_col"
   ]
  },
  {
   "cell_type": "code",
   "execution_count": null,
   "metadata": {
    "collapsed": false
   },
   "outputs": [],
   "source": [
    "ids = []\n",
    "no_names = []\n",
    "pattern = re.compile('[\\W_]+')\n",
    "for i, row in df.iterrows():\n",
    "    name_list = [\"\"]\n",
    "    if pd.notnull(row[\"Last Name\"]):\n",
    "        name_list.append(pattern.sub('', row[\"Last Name\"]))\n",
    "    if pd.notnull(row[\"First Name\"]):\n",
    "        name_list.append(pattern.sub('', row[\"First Name\"]))\n",
    "    name = \"\".join(name_list)\n",
    "    if len(name) == 0:\n",
    "        no_names.append(1)\n",
    "    else:\n",
    "        no_names.append(0)\n",
    "    id_list = [date_code[row[\"Date\"]], observer_code[row[\"Observer(s)\"]], courthouse_code[row[\"Courthouse\"]], name.upper()]\n",
    "    id_str = \"\".join(id_list)\n",
    "    ids.append(id_str)\n",
    "\n",
    "df[\"Individual ID\"] = ids\n",
    "df[\"No Name\"] = no_names"
   ]
  },
  {
   "cell_type": "code",
   "execution_count": null,
   "metadata": {
    "collapsed": true
   },
   "outputs": [],
   "source": [
    "def uniqueid():\n",
    "    seed = random.getrandbits(32)\n",
    "    while True:\n",
    "       yield seed\n",
    "       seed += 1"
   ]
  },
  {
   "cell_type": "code",
   "execution_count": null,
   "metadata": {
    "collapsed": true
   },
   "outputs": [],
   "source": [
    "unique_sequence = uniqueid()\n",
    "unique_ids = set(ids)\n",
    "anon_id_dict = {}\n",
    "for iid in unique_ids:\n",
    "    anon_id_dict[iid] = next(unique_sequence)\n",
    "\n",
    "anon_ids = []\n",
    "charge_ids = []\n",
    "for i, row in df.iterrows():\n",
    "    anon_ids.append(anon_id_dict[row[\"Individual ID\"]])\n",
    "    charge_ids.append(next(unique_sequence))\n",
    "    \n",
    "df[\"Anonymous Individual ID\"] = anon_ids\n",
    "df[\"Charge ID\"] = charge_ids"
   ]
  },
  {
   "cell_type": "code",
   "execution_count": null,
   "metadata": {
    "collapsed": false
   },
   "outputs": [],
   "source": [
    "df"
   ]
  },
  {
   "cell_type": "code",
   "execution_count": null,
   "metadata": {
    "collapsed": true
   },
   "outputs": [],
   "source": [
    "df.to_csv(\"../Output/safety_check.csv\", index = False)"
   ]
  },
  {
   "cell_type": "code",
   "execution_count": null,
   "metadata": {
    "collapsed": false
   },
   "outputs": [],
   "source": [
    "individuals = {}\n",
    "for i, row in df.iterrows():\n",
    "\n",
    "    anon_id = row[\"Anonymous Individual ID\"]\n",
    "    \n",
    "    if anon_id in individuals.keys():\n",
    "        individuals[anon_id][\"Charge Count\"] += 1\n",
    "        individuals[anon_id][\"Charge List\"].append(row[\"Charge\"])\n",
    "    else:\n",
    "        individuals[anon_id] = {\n",
    "        \"Charge Count\" : 1,\n",
    "        \"Judge\" : row[\"Judge\"],\n",
    "        \"Race\" : row[\"Race\"],\n",
    "        \"Charge List\" : [row[\"Charge\"]]\n",
    "        }\n",
    "        \n",
    "        #Last Name and First Name will not be present in anonymized data\n",
    "        \n",
    "        if \"Last Name\" in df.columns:\n",
    "            individuals[anon_id][\"Last Name\"] = row[\"Last Name\"]\n",
    "        if \"First Name\" in df.columns:\n",
    "            individuals[anon_id][\"First Name\"] = row[\"First Name\"]"
   ]
  },
  {
   "cell_type": "code",
   "execution_count": null,
   "metadata": {
    "collapsed": true
   },
   "outputs": [],
   "source": [
    "mult_charge = []\n",
    "for iid, info in individuals.items():\n",
    "    if info[\"Charge Count\"] > 1:\n",
    "        mult_charge.append([iid, info[\"Charge List\"]])"
   ]
  },
  {
   "cell_type": "code",
   "execution_count": null,
   "metadata": {
    "collapsed": false
   },
   "outputs": [],
   "source": [
    "len(mult_charge)"
   ]
  },
  {
   "cell_type": "code",
   "execution_count": null,
   "metadata": {
    "collapsed": false
   },
   "outputs": [],
   "source": [
    "mci = pd.DataFrame(mult_charge, columns = [\"ID\", \"Charges\"])"
   ]
  },
  {
   "cell_type": "code",
   "execution_count": null,
   "metadata": {
    "collapsed": false
   },
   "outputs": [],
   "source": [
    "mci.to_csv(\"../Output/Individuals-with-multiple-charges.csv\", index = False)"
   ]
  },
  {
   "cell_type": "code",
   "execution_count": null,
   "metadata": {
    "collapsed": false
   },
   "outputs": [],
   "source": [
    "new_df_list = []\n",
    "\n",
    "cols = [\"Hearing ID\", \"Charge ID\", \"Number of Charges at Hearing\", \"Charge\", \"Class\", \"Broad Charge Type\", \\\n",
    "        \"Narrow Charge Type\", \"Violent\", \"Police Related\", \"Gun Related\", \"Criminal Justice System Related\", \\\n",
    "        \"Duration in Seconds\", \"Criminal Risk Scale\", \"No Show Risk Scale\", \"Old Risk Scale\", \"Judge\", \\\n",
    "        \"Courthouse\", \"Bond\", \"Bond Type\", \"Date\"]\n",
    "for i, row in df.iterrows():\n",
    "    new_row = []\n",
    "    if row[\"Charge\"] in remove_charges or pd.isnull(row[\"Charge\"]):\n",
    "        continue\n",
    "    \n",
    "    if row[\"No Name\"] == 1:\n",
    "        continue\n",
    "        \n",
    "    if pd.isnull(row[\"Final Bond\"]) or row[\"Final Bond\"] == 0:\n",
    "        continue\n",
    "        \n",
    "    new_row.append(row[\"Anonymous Individual ID\"])\n",
    "    new_row.append(row[\"Charge ID\"])\n",
    "    new_row.append(individuals[row[\"Anonymous Individual ID\"]][\"Charge Count\"])\n",
    "    new_row.append(row[\"Charge\"])\n",
    "    new_row.append(row[\"Class\"])\n",
    "    new_row.append(charge_dict[row[\"Charge\"]][\"Broad Charge Type\"])\n",
    "    new_row.append(charge_dict[row[\"Charge\"]][\"Narrow Charge Type\"])\n",
    "    new_row.append(charge_dict[row[\"Charge\"]][\"Violent\"])\n",
    "    new_row.append(charge_dict[row[\"Charge\"]][\"Police Related\"])\n",
    "    new_row.append(charge_dict[row[\"Charge\"]][\"Gun Related\"])\n",
    "    new_row.append(charge_dict[row[\"Charge\"]][\"Criminal Justice System Related\"])\n",
    "    if pd.notnull(row[\"Duration\"]):\n",
    "        new_row.append(row[\"Duration\"].seconds)\n",
    "    else:\n",
    "        new_row.append(None)\n",
    "    new_row.append(row[\"Other Criminal Activity Risk (Scale)\"])\n",
    "    new_row.append(row[\"No show risk (Scale)\"])\n",
    "    new_row.append(row[\"Scale (if only one number)\"])\n",
    "    new_row.append(row[\"Judge\"])\n",
    "    new_row.append(row[\"Courthouse\"])\n",
    "    new_row.append(row[\"Final Bond\"])\n",
    "    new_row.append(row[\"Bond Type\"])\n",
    "    new_row.append(row[\"Date\"])\n",
    "    \n",
    "    new_df_list.append(new_row)\n",
    "    "
   ]
  },
  {
   "cell_type": "code",
   "execution_count": null,
   "metadata": {
    "collapsed": false
   },
   "outputs": [],
   "source": [
    "new_df = pd.DataFrame(new_df_list, columns = cols)\n",
    "\n",
    "new_df.to_csv(\"../Output/All-Charges-for-Analysis-with-Dates.csv\", index = False)"
   ]
  },
  {
   "cell_type": "code",
   "execution_count": null,
   "metadata": {
    "collapsed": true
   },
   "outputs": [],
   "source": []
  }
 ],
 "metadata": {
  "kernelspec": {
   "display_name": "Python 3",
   "language": "python",
   "name": "python3"
  },
  "language_info": {
   "codemirror_mode": {
    "name": "ipython",
    "version": 3
   },
   "file_extension": ".py",
   "mimetype": "text/x-python",
   "name": "python",
   "nbconvert_exporter": "python",
   "pygments_lexer": "ipython3",
   "version": "3.5.1"
  }
 },
 "nbformat": 4,
 "nbformat_minor": 0
}
