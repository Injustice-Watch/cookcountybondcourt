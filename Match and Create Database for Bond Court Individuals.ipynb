{
 "cells": [
  {
   "cell_type": "markdown",
   "metadata": {},
   "source": [
    "# Creating Database of Bond Court Observations"
   ]
  },
  {
   "cell_type": "code",
   "execution_count": null,
   "metadata": {
    "collapsed": false
   },
   "outputs": [],
   "source": [
    "import pandas as pd\n",
    "import numpy as np\n",
    "import datetime\n",
    "import dateparser\n",
    "import dateutil\n",
    "from standardize import standard_classes\n",
    "from standardize import class_rank\n",
    "from standardize import judges\n",
    "from standardize import race_dict"
   ]
  },
  {
   "cell_type": "markdown",
   "metadata": {},
   "source": [
    "### Read in Data"
   ]
  },
  {
   "cell_type": "code",
   "execution_count": null,
   "metadata": {
    "collapsed": false
   },
   "outputs": [],
   "source": [
    "arrest_lookup = pd.read_csv(\"../Data/Original Data/ArrestData.csv\", header=0) #Hand look ups in arrest database, alternative name spellings\n",
    "cpd_arrest_data = pd.read_csv(\"../Data/Original Data/ReleaseData.csv\", header=0) #Data dump of arrest database, releases between July 4th and 16th\n",
    "jail_1 = pd.read_csv(\"../Data/Original Data/CookCounty07122016.csv\", header=0) #jail snapshot from July 11, 2016\n",
    "jail_2 = pd.read_csv(\"../Data/Original Data/CookCounty07132016.csv\", header=0) #jail snapshot from July 12, 2016\n",
    "jail_3 = pd.read_csv(\"../Data/Original Data/CookCounty07142016.csv\", header=0) #jail snapshot from July 13, 2016\n",
    "jail_4 = pd.read_csv(\"../Data/Original Data/CookCounty07152016.csv\", header=0) #jail snapshot from July 14, 2016\n",
    "jail_5 = pd.read_csv(\"../Data/Original Data/CookCounty07182016.csv\", header=0) #jail snapshot from July 17, 2016\n",
    "jail_6 = pd.read_csv(\"../Data/Original Data/CookCounty07192016.csv\", header=0) #jail snapshot from July 18, 2016\n",
    "jail_7 = pd.read_csv(\"../Data/Original Data/CookCounty07202016.csv\", header=0) #jail snapshot from July 19, 2016\n",
    "jail_8 = pd.read_csv(\"../Data/Original Data/CookCounty07212016.csv\", header=0) #jail snapshot from July 20, 2016\n",
    "jail_9 = pd.read_csv(\"../Data/Original Data/CookCounty07222016.csv\", header=0) #jail snapshot from July 21, 2016\n",
    "bond_court = pd.read_csv(\"../Data/Original Data/CourthouseAbbreviated.csv\", header=0) #Bond court observations\n",
    "courthouse_altnames = pd.read_csv(\"../Output/Courthouse Only Names.csv\", header = None)\n",
    "fuzzy_altnames = pd.read_csv(\"../Output/Fuzzy Found Names.csv\")\n",
    "courthouse_lookup = pd.read_csv(\"../Output/Courthouse Manual Matches.csv\", header = 0)\n",
    "charge_classes = pd.read_csv(\"../Data/Helper Data/CookCountyAllChargesAndClasses.csv\", header = 0)"
   ]
  },
  {
   "cell_type": "code",
   "execution_count": null,
   "metadata": {
    "collapsed": true
   },
   "outputs": [],
   "source": [
    "unclassed_charges = []"
   ]
  },
  {
   "cell_type": "markdown",
   "metadata": {},
   "source": [
    "### Functions for Later"
   ]
  },
  {
   "cell_type": "code",
   "execution_count": null,
   "metadata": {
    "collapsed": true
   },
   "outputs": [],
   "source": [
    "def new_entry(lastname, firstname, bond_date):\n",
    "    '''\n",
    "    Take a last name, first name, and bond court date\n",
    "    Return dictionary entry with default values\n",
    "    '''\n",
    "    entry = {\n",
    "        \"Last Name\" : lastname,\n",
    "        \"First Name\" : firstname,\n",
    "        \"All Spellings\" : set([firstname + \" \" + lastname]),\n",
    "        \"Bond Court Date\" : bond_date,\n",
    "        \"Charges\" : [],\n",
    "        \"Days in Police Custody\" : None,\n",
    "        \"CPD Arrest Date\" : None,\n",
    "        \"CPD Release Date\" : None,\n",
    "        \"Booking Date\" : None,\n",
    "        \"Total Bond\" : None,\n",
    "        \"Highest Charge Rank\" : None,\n",
    "        \"Highest Charge Class\" : None,\n",
    "        \"Highest Charge Description\" : None,\n",
    "        \"Race\" : None,\n",
    "        \"Age\" : None,\n",
    "        \"Gender\" : None,\n",
    "        \"Jail ID\" : None,\n",
    "        \"Arrest ID\" : None,\n",
    "        \"Jail Record\" : False,\n",
    "        \"Arrest Record\" : False,\n",
    "        \"Court Record\" : False,\n",
    "        \"Unaccounted Custody\" : False,\n",
    "        \"Number of Charges\" : None,\n",
    "        \"No Bond\" : False,\n",
    "        \"Bond Type\" : None,\n",
    "        \"Days in Jail\" : None,\n",
    "        \"Judge\" : None,\n",
    "        \"Old Scale\" : None,\n",
    "        \"Threat Risk Scale\" : None,\n",
    "        \"No Show Risk Scale\" : None,\n",
    "        \"Courthouse\" : None,\n",
    "        \"Jail Release Date\" : None,\n",
    "        \"Still in Jail After a Week\" : False,\n",
    "        \"Courthouse Record\" : False,\n",
    "        \"First Name from Observations\": None,\n",
    "        \"Last Name from Observations\" : None\n",
    "    }\n",
    "    return entry"
   ]
  },
  {
   "cell_type": "code",
   "execution_count": null,
   "metadata": {
    "collapsed": false
   },
   "outputs": [],
   "source": [
    "def new_charge(**kwargs):\n",
    "    '''\n",
    "    Take information for new charge\n",
    "    Return dictionary for charge\n",
    "    '''\n",
    "    charge = {\n",
    "        \"Charge Class\" : kwargs[\"charge_class\"],\n",
    "        \"Charge Description\" : kwargs[\"charge_desc\"],\n",
    "        \"Case Disposition\" : kwargs[\"charge_disp\"],\n",
    "        \"Statute\" : kwargs[\"charge_statute\"],\n",
    "        \"Booking ID\" : kwargs[\"booking_id\"],\n",
    "        \"Charge Code\" : kwargs[\"charge_code\"],\n",
    "        \"Charge Rank\" : kwargs[\"rank\"],        \n",
    "    }\n",
    "    if not charge[\"Charge Class\"]:\n",
    "        unclassed_charges.append((charge[\"Statute\"], charge[\"Charge Description\"]))\n",
    "\n",
    "    return charge"
   ]
  },
  {
   "cell_type": "code",
   "execution_count": null,
   "metadata": {
    "collapsed": true
   },
   "outputs": [],
   "source": [
    "def text_clean(text, keep_all = False, first_and_last = False, last_name = False):\n",
    "    '''\n",
    "    Strip end spaces, extra spaces between names and\n",
    "    middle names and initials from first names depending on parameters\n",
    "    \n",
    "    Return edited name in all caps\n",
    "    '''\n",
    "    text = text.replace(\".\", \"\")\n",
    "    text = text.replace(\",\", \"\")\n",
    "    \n",
    "    if last_name:\n",
    "        allwords = text.split()\n",
    "        return allwords[-1].upper()\n",
    "    \n",
    "    if first_and_last:\n",
    "        allwords = text.split()\n",
    "        if len(allwords) >= 2:\n",
    "            final = \" \".join([allwords[0], allwords[-1]])\n",
    "        else:\n",
    "            final = allwords[0]\n",
    "        return final.upper()\n",
    "    elif keep_all:\n",
    "        allwords = text.split()\n",
    "        final = \" \".join(allwords)\n",
    "        return final.upper()\n",
    "    \n",
    "    else:\n",
    "        allwords = text.split()\n",
    "        return allwords[0].upper()\n"
   ]
  },
  {
   "cell_type": "code",
   "execution_count": null,
   "metadata": {
    "collapsed": true
   },
   "outputs": [],
   "source": [
    "def standardize_class(class_name):\n",
    "    '''\n",
    "    Look up class name in dictionary to standardize\n",
    "    Return standard class name\n",
    "    '''\n",
    "    if class_name and pd.notnull(class_name):\n",
    "        return standard_classes[class_name.upper()]\n",
    "    else:\n",
    "        return None"
   ]
  },
  {
   "cell_type": "code",
   "execution_count": null,
   "metadata": {
    "collapsed": true
   },
   "outputs": [],
   "source": [
    "def class_lookup(statute, description):\n",
    "    '''\n",
    "    Look up charge based on statute and description\n",
    "    '''\n",
    "    if pd.notnull(statute) and pd.notnull(description):\n",
    "        key = \" \".join([description, statute])\n",
    "        if key in class_dict:\n",
    "            return class_dict[key]\n",
    "    elif pd.notnull(statute):\n",
    "        if statute.upper() in class_dict:\n",
    "            return class_dict[statute.upper()]\n",
    "    elif pd.notnull(description):\n",
    "        if description.upper() in class_dict:\n",
    "            return class_dict[description.upper()]\n",
    "    else:\n",
    "        return"
   ]
  },
  {
   "cell_type": "code",
   "execution_count": null,
   "metadata": {
    "collapsed": true
   },
   "outputs": [],
   "source": [
    "def add_altnames(df, db, iid):\n",
    "    '''\n",
    "    Add alternative names from fuzzy and court records. Can take only up to 4 different name spellings\n",
    "    '''\n",
    "    for i, row in df.iterrows():\n",
    "        if row.iloc[0] in db[iid][\"All Spellings\"]:\n",
    "            db[iid][\"All Spellings\"].add(text_clean(row.iloc[0], keep_all = True))\n",
    "            if len(df.columns) >= 2:\n",
    "                if pd.notnull(row.iloc[1]):\n",
    "                    db[iid][\"All Spellings\"].add(text_clean(row.iloc[1], keep_all = True))\n",
    "            if len(df.columns) >= 3:\n",
    "                if pd.notnull(row.iloc[2]):\n",
    "                    db[iid][\"All Spellings\"].add(text_clean(row.iloc[2], keep_all = True))\n",
    "            if len(df.columns) >= 4:\n",
    "                if pd.notnull(row.iloc[3]):\n",
    "                    db[iid][\"All Spellings\"].add(text_clean(row.iloc[3], keep_all = True))\n",
    "            break"
   ]
  },
  {
   "cell_type": "markdown",
   "metadata": {},
   "source": [
    "## Create Dictionary of Standardized Classes"
   ]
  },
  {
   "cell_type": "code",
   "execution_count": null,
   "metadata": {
    "collapsed": false
   },
   "outputs": [],
   "source": [
    "class_dict = {}\n",
    "for i, row in charge_classes.iterrows():\n",
    "    if pd.notnull(row[\"Charge Description\"]) and pd.notnull(row[\"Statute\"]):\n",
    "        key = \" \".join([row[\"Charge Description\"].upper(), row[\"Statute\"].upper()])\n",
    "        if key in class_dict:\n",
    "            if class_rank[class_dict[key]] < class_rank[standardize_class(row[\"Class\"])]:\n",
    "                class_dict[key] = standardize_class(row[\"Class\"])\n",
    "        else:\n",
    "            class_dict[key] = standardize_class(row[\"Class\"])\n",
    "    if pd.notnull(row[\"Charge Description\"]):\n",
    "        if row[\"Charge Description\"].upper() in class_dict:\n",
    "            if class_rank[class_dict[row[\"Charge Description\"].upper()]] < class_rank[standardize_class(row[\"Class\"])]:\n",
    "                class_dict[row[\"Charge Description\"].upper()] = standardize_class(row[\"Class\"])\n",
    "        else:\n",
    "            class_dict[row[\"Charge Description\"].upper()] = standardize_class(row[\"Class\"])\n",
    "            \n",
    "    if pd.notnull(row[\"Statute\"]):\n",
    "        if row[\"Statute\"].upper() in class_dict:\n",
    "            if class_rank[class_dict[row[\"Statute\"].upper()]] < class_rank[standardize_class(row[\"Class\"])]:\n",
    "                class_dict[row[\"Statute\"].upper()] = standardize_class(row[\"Class\"])\n",
    "        else:\n",
    "            class_dict[row[\"Statute\"].upper()] = standardize_class(row[\"Class\"])"
   ]
  },
  {
   "cell_type": "markdown",
   "metadata": {},
   "source": [
    "## Create Dictionary of Individuals"
   ]
  },
  {
   "cell_type": "code",
   "execution_count": null,
   "metadata": {
    "collapsed": false
   },
   "outputs": [],
   "source": [
    "day = dateparser.parse(\"7/5/2016\")\n",
    "day_1 = datetime.date(day.year, day.month, day.day)\n",
    "\n",
    "day = dateparser.parse(\"7/6/2016\")\n",
    "day_2 = datetime.date(day.year, day.month, day.day)\n",
    "\n",
    "day = dateparser.parse(\"7/7/2016\")\n",
    "day_3 = datetime.date(day.year, day.month, day.day)\n",
    "\n",
    "day = dateparser.parse(\"7/8/2016\")\n",
    "day_4 = datetime.date(day.year, day.month, day.day)\n",
    "\n",
    "day = dateparser.parse(\"7/11/2016\")\n",
    "day_5 = datetime.date(day.year, day.month, day.day)\n",
    "\n",
    "day = dateparser.parse(\"7/12/2016\")\n",
    "day_6 = datetime.date(day.year, day.month, day.day)\n",
    "\n",
    "day = dateparser.parse(\"7/13/2016\")\n",
    "day_7 = datetime.date(day.year, day.month, day.day)\n",
    "\n",
    "day = dateparser.parse(\"7/14/2016\")\n",
    "day_8 = datetime.date(day.year, day.month, day.day)\n",
    "\n",
    "day = dateparser.parse(\"7/15/2016\")\n",
    "day_9 = datetime.date(day.year, day.month, day.day)\n",
    "\n",
    "jail_matches = set([])\n",
    "arrest_matches = set([])\n",
    "no_matches = set([])\n",
    "current = None\n",
    "iid = 0\n",
    "db = {}\n",
    "\n",
    "for i, court_row in bond_court.iterrows():\n",
    "    if pd.notnull(court_row[\"Defendent First Name\"]) and pd.notnull(court_row[\"Defendent Last Name\"]):\n",
    "        first = text_clean(court_row[\"Defendent First Name\"])\n",
    "        last = text_clean(court_row[\"Defendent Last Name\"], last_name = True)\n",
    "    else:\n",
    "        continue\n",
    "    \n",
    "    this = \" \".join([first, last])\n",
    "\n",
    "    if current != this:\n",
    "        \n",
    "        current = this\n",
    "        iid += 1\n",
    "    \n",
    "        day = dateparser.parse(court_row[\"Date\"])\n",
    "        bond_date = datetime.date(day.year, day.month, day.day)\n",
    "        if bond_date == day_1:\n",
    "            jail_data = jail_1\n",
    "        elif bond_date == day_2:\n",
    "            jail_data = jail_2\n",
    "        elif bond_date == day_3:\n",
    "            jail_data = jail_3\n",
    "        elif bond_date == day_4:\n",
    "            jail_data = jail_4\n",
    "        elif bond_date == day_5:\n",
    "            jail_data = jail_5\n",
    "        elif bond_date == day_6:\n",
    "            jail_data = jail_6\n",
    "        elif bond_date == day_7:\n",
    "            jail_data = jail_7\n",
    "        elif bond_date == day_8:\n",
    "            jail_data = jail_8\n",
    "        elif bond_date == day_9:\n",
    "            jail_data = jail_9\n",
    "            \n",
    "        db[iid] = new_entry(last, first, bond_date)\n",
    "        db[iid][\"First Name from Observations\"] = first\n",
    "        db[iid][\"Last Name from Observations\"] = last\n",
    "        if pd.notnull(court_row[\"Judge\"]):\n",
    "            db[iid][\"Judge\"] = judges[text_clean(court_row[\"Judge\"], keep_all = True)]\n",
    "        if pd.notnull(court_row[\"Scale\"]):\n",
    "            db[iid][\"Old Scale\"] = court_row[\"Scale\"]\n",
    "        if pd.notnull(court_row[\"Risk Scale\"]):\n",
    "            db[iid][\"Threat Risk Scale\"] = court_row[\"Risk Scale\"]\n",
    "        if pd.notnull(court_row[\"No Show Risk\"]):\n",
    "            db[iid][\"No Show Risk Scale\"] = court_row[\"No Show Risk\"]\n",
    "        if pd.notnull(court_row[\"Courthouse\"]):\n",
    "            db[iid][\"Courthouse\"] = text_clean(court_row[\"Courthouse\"], keep_all = True)\n",
    "        if pd.notnull(court_row[\"Bond Type\"]):\n",
    "            db[iid][\"Bond Type\"] = court_row[\"Bond Type\"].upper()\n",
    "        if pd.notnull(court_row[\"Race\"]):\n",
    "            db[iid][\"Race\"] = race_dict[court_row[\"Race\"]]\n",
    "        if pd.notnull(court_row[\"Gender\"]):\n",
    "            db[iid][\"Gender\"] = text_clean(court_row[\"Gender\"])\n",
    "        if pd.notnull(court_row[\"Jail ID for Disamb\"]):\n",
    "            db[iid][\"Jail ID\"] = court_row[\"Jail ID for Disamb\"]\n",
    "        if pd.notnull(court_row[\"Total Bond\"]):\n",
    "            db[iid][\"Total Bond\"] = float(court_row[\"Total Bond\"].strip(\"$\").replace(\",\", \"\").replace(\"*\", \"\").replace(\" (?)\", \"\"))\n",
    "\n",
    "        '''\n",
    "        The arrest DF is the result of looking up individuals by hand to find\n",
    "        arrest records on the CPD website, and is used here only to add alternative\n",
    "        spellings that were found.\n",
    "        '''\n",
    "        for k, row in arrest_lookup.iterrows():\n",
    "            matchrowlast = row[\"Original Spelling: Defendent Last Name\"]\n",
    "            matchrowfirst = row[\"Original Spelling: Defendent First Name\"]\n",
    "            if pd.notnull(matchrowlast) and pd.notnull(matchrowfirst):\n",
    "                matchrowlast = text_clean(str(matchrowlast), last_name = True)\n",
    "                matchrowfirst = text_clean(str(matchrowfirst))\n",
    "                if matchrowlast == last and matchrowfirst == first:\n",
    "                    if pd.notnull(row[\"Arrest Last Name\"]) and pd.notnull(row[\"Arrest First Name\"]):\n",
    "                        alt_last = text_clean(row[\"Arrest Last Name\"], last_name = True)\n",
    "                        alt_first = text_clean(row[\"Arrest First Name\"])\n",
    "\n",
    "                    else:\n",
    "                        alt_last = None\n",
    "                        alt_first = None\n",
    "                    \n",
    "                    if alt_last and alt_first:\n",
    "                        db[iid][\"Last Name\"] = alt_last\n",
    "                        db[iid][\"First Name\"] = alt_first\n",
    "                        db[iid][\"All Spellings\"].add(\" \".join([alt_first, alt_last]))\n",
    "                    break\n",
    "\n",
    "                else:\n",
    "                    continue\n",
    "            else:\n",
    "                continue\n",
    "                \n",
    "        '''\n",
    "        Add alternative names from fuzzy and court records. Can take only up to 4 different name spellings\n",
    "        '''\n",
    "        add_altnames(fuzzy_altnames, db, iid)\n",
    "        add_altnames(courthouse_altnames, db, iid)\n",
    "        \n",
    "        '''\n",
    "        Look for jail records 7 days after arrest\n",
    "        '''\n",
    "        jailtime = False\n",
    "        arrestrecord = False\n",
    "        no_match = True\n",
    "        namestr = (first, last, alt_first, alt_last)\n",
    "\n",
    "        for j, row in jail_data.iterrows():\n",
    "\n",
    "            jail_last = text_clean(row[\"InmateLast\"], last_name = True)\n",
    "            jail_first = text_clean(row[\"InmateFirst\"])\n",
    "            \n",
    "            jailname = \" \".join([jail_first, jail_last])\n",
    "            \n",
    "            #add fuzzy name matching\n",
    "\n",
    "            if jailname in db[iid][\"All Spellings\"]:\n",
    "                if db[iid][\"Jail ID\"]:\n",
    "                    if db[iid][\"Jail ID\"] != row[\"Inmateid\"]:\n",
    "                        continue\n",
    "                \n",
    "                #add check to make sure they have not been in jail the whole time\n",
    "                \n",
    "                jail_matches.add(namestr)\n",
    "\n",
    "                no_match = False\n",
    "                jail_time = True\n",
    "                \n",
    "                # var for section\n",
    "                race = row[\"Race\"]\n",
    "                age = row[\"Age\"]\n",
    "                gender = row[\"Gender\"]\n",
    "                charge = row[\"charge_description\"]\n",
    "                statute = row[\"charge_statute\"]\n",
    "                cclass = row[\"charge_crimeType\"]\n",
    "                jailid = row[\"Inmateid\"]\n",
    "                bookid = row[\"Bookingid\"]\n",
    "                bookdate = row[\"Bookingdate\"]\n",
    "                dispo = row[\"casedisposition\"]\n",
    "                bond = row[\"TotalBond\"]\n",
    "                \n",
    "                \n",
    "                if pd.notnull(race):\n",
    "                    db[iid][\"Race\"] = race_dict[race]\n",
    "                if pd.notnull(age):\n",
    "                    db[iid][\"Age\"] = age\n",
    "                if pd.notnull(gender):\n",
    "                    db[iid][\"Gender\"] = text_clean(gender)\n",
    "                if pd.notnull(jailid):\n",
    "                    db[iid][\"Jail ID\"] = jailid\n",
    "                if pd.notnull(bookdate):\n",
    "                    day = dateparser.parse(bookdate)\n",
    "                    db[iid][\"Booking Date\"] = datetime.date(day.year, day.month, day.day)\n",
    "                if pd.notnull(bond) and bond != 0:\n",
    "                    db[iid][\"Jail Bond\"] = float(bond.strip(\"$\").replace(\",\", \"\"))\n",
    "                else:\n",
    "                    db[iid][\"No Bond\"] = True\n",
    "                db[iid][\"Days in Jail\"] = ((bond_date + datetime.timedelta(days=7)) - db[iid][\"Booking Date\"]).days\n",
    "                db[iid][\"Jail Record\"] = True\n",
    "                db[iid][\"Still in Jail After a Week\"] = True\n",
    "                \n",
    "                break\n",
    "\n",
    "        '''\n",
    "        Look for name in arrest and release data\n",
    "        '''\n",
    "        for l, row in cpd_arrest_data.iterrows():\n",
    "            rel_first = text_clean(row[\"first_name\"])\n",
    "            rel_last = text_clean(row[\"last_name\"], last_name = True)\n",
    "            rel_name = \" \".join([rel_first, rel_last])\n",
    "\n",
    "            if rel_name in db[iid][\"All Spellings\"]:\n",
    "                \n",
    "                arrest_matches.add(namestr)\n",
    "                arrestrecord = True\n",
    "                no_match = False\n",
    "                \n",
    "                # var for section\n",
    "                arrest_id = row[\"central_booking\"]\n",
    "                arrest_date = row[\"received_in_custody\"]\n",
    "                release_date = row[\"released_from_custody\"]\n",
    "                age = row[\"age\"]\n",
    "                statute = row[\"statute\"]\n",
    "                bond = row[\"amount\"]\n",
    "                \n",
    "                if pd.notnull(arrest_id):\n",
    "                    db[iid][\"Arrest ID\"] = arrest_id\n",
    "                if pd.notnull(arrest_date):\n",
    "                    day = dateparser.parse(arrest_date)\n",
    "                    db[iid][\"CPD Arrest Date\"] = datetime.date(day.year, day.month, day.day)\n",
    "                if pd.notnull(release_date):\n",
    "                    dateparser.parse(release_date)\n",
    "                    db[iid][\"CPD Release Date\"] = datetime.date(day.year, day.month, day.day)\n",
    "                if pd.notnull(arrest_date) and pd.notnull(release_date):\n",
    "                    db[iid][\"Days in Police Custody\"] = (db[iid][\"CPD Release Date\"] - db[iid][\"CPD Arrest Date\"]).days\n",
    "                if pd.notnull(age):\n",
    "                    db[iid][\"Age\"] = age\n",
    "                if pd.notnull(bond) and not db[iid][\"Total Bond\"]:\n",
    "                    db[iid][\"Total Bond\"] = float(bond)\n",
    "                db[iid][\"Arrest Record\"] = True\n",
    "                \n",
    "                if not db[iid][\"Jail Record\"]:\n",
    "                    db[iid][\"First Name\"] = rel_first\n",
    "                    db[iid][\"Last Name\"] = rel_last\n",
    "                \n",
    "                break\n",
    "                \n",
    "        '''\n",
    "        If neither arrest record nor jail record found, look in data obtained from looking up\n",
    "        missing individuals at courthouse by hand.\n",
    "        '''\n",
    "        if no_match:\n",
    "            for n, row in courthouse_lookup.iterrows():\n",
    "                name_list = []\n",
    "                if pd.notnull(row[\"Name 1\"]):\n",
    "                    name1 = text_clean(row[\"Name 1\"], keep_all = True)\n",
    "                    name1a = text_clean(row[\"Name 1\"], first_and_last = True)\n",
    "                    name_list.append(name1)\n",
    "                    name_list.append(name1a)\n",
    "                if pd.notnull(row[\"Name 2\"]):\n",
    "                    name2 = text_clean(row[\"Name 2\"], keep_all = True)\n",
    "                    name2a = text_clean(row[\"Name 2\"], first_and_last = True)\n",
    "                    name_list.append(name2)\n",
    "                    name_list.append(name2a)\n",
    "                if pd.notnull(row[\"Name 3\"]):\n",
    "                    name3 = text_clean(row[\"Name 3\"], keep_all = True)\n",
    "                    name3a = text_clean(row[\"Name 3\"], first_and_last = True)\n",
    "                    name_list.append(name3)\n",
    "                    name_list.append(name3a)\n",
    "                if pd.notnull(row[\"Name 4\"]):\n",
    "                    name4 = text_clean(row[\"Name 4\"], keep_all = True)\n",
    "                    name4a = text_clean(row[\"Name 4\"], first_and_last = True)\n",
    "                    name_list.append(name4)\n",
    "                    name_list.append(name4a)\n",
    "                    \n",
    "                all_names = set(name_list)\n",
    "                if bool(db[iid][\"All Spellings\"] & all_names):\n",
    "                    no_match = False\n",
    "                    \n",
    "                    # var for section\n",
    "                    arrest_id = row[\"CBN\"]\n",
    "                    if pd.notnull(row[\"DOB\"]):\n",
    "                        dobdate = dateparser.parse(row[\"DOB\"])\n",
    "                        DOB = datetime.date(dobdate.year, dobdate.month, dobdate.day)\n",
    "                        age = (dateutil.relativedelta.relativedelta(bond_date, DOB)).years\n",
    "                    else:\n",
    "                        age = None\n",
    "\n",
    "                    db[iid][\"Age\"] = age\n",
    "                    db[iid][\"Arrest Record\"] = True\n",
    "                    db[iid][\"Arrest ID\"] = arrest_id\n",
    "\n",
    "                    break\n",
    "                    \n",
    "            \n",
    "        if no_match:\n",
    "            no_matches.add(namestr)\n",
    "        if not db[iid][\"Race\"] and pd.notnull(court_row[\"Race\"]):\n",
    "            db[iid][\"Race\"] = race_dict[court_row[\"Race\"]]\n",
    "        if court_row[\"Bond Type\"] == \"NONE\":\n",
    "            db[iid][\"No Bond\"] = True\n",
    "            \n",
    "print(iid)"
   ]
  },
  {
   "cell_type": "markdown",
   "metadata": {},
   "source": [
    "### Post-process: Look for individuals in other jail days"
   ]
  },
  {
   "cell_type": "markdown",
   "metadata": {},
   "source": [
    "Dictionary: Which jail dataframes to check for each bond court date"
   ]
  },
  {
   "cell_type": "code",
   "execution_count": null,
   "metadata": {
    "collapsed": false
   },
   "outputs": [],
   "source": [
    "release_dates = {\n",
    "    datetime.date(2016, 7, 5) : {\n",
    "        datetime.date(2016, 7, 5): pd.DataFrame([]),\n",
    "        datetime.date(2016, 7, 6): pd.DataFrame([]),\n",
    "        datetime.date(2016, 7, 7): pd.DataFrame([]),\n",
    "        datetime.date(2016, 7, 8): pd.DataFrame([]),\n",
    "        datetime.date(2016, 7, 9): pd.DataFrame([]),\n",
    "        datetime.date(2016, 7, 10): pd.DataFrame([]),\n",
    "        datetime.date(2016, 7, 11) : pd.DataFrame([])\n",
    "    },\n",
    "    datetime.date(2016, 7, 6) : {\n",
    "        datetime.date(2016, 7, 6): pd.DataFrame([]),\n",
    "        datetime.date(2016, 7, 7): pd.DataFrame([]), \n",
    "        datetime.date(2016, 7, 8): pd.DataFrame([]), \n",
    "        datetime.date(2016, 7, 9): pd.DataFrame([]), \n",
    "        datetime.date(2016, 7, 10): pd.DataFrame([]), \n",
    "        datetime.date(2016, 7, 11) : pd.DataFrame([]),\n",
    "        datetime.date(2016, 7, 12): jail_1\n",
    "    },\n",
    "    datetime.date(2016, 7, 7) : {\n",
    "        datetime.date(2016, 7, 7): pd.DataFrame([]),\n",
    "        datetime.date(2016, 7, 8): pd.DataFrame([]), \n",
    "        datetime.date(2016, 7, 9): pd.DataFrame([]), \n",
    "        datetime.date(2016, 7, 10): pd.DataFrame([]), \n",
    "        datetime.date(2016, 7, 11): pd.DataFrame([]), \n",
    "        datetime.date(2016, 7, 12): jail_1,\n",
    "        datetime.date(2016, 7, 13): jail_2\n",
    "    },\n",
    "    datetime.date(2016, 7, 8) : {\n",
    "        datetime.date(2016, 7, 8): pd.DataFrame([]), \n",
    "        datetime.date(2016, 7, 9): pd.DataFrame([]), \n",
    "        datetime.date(2016, 7, 10): pd.DataFrame([]), \n",
    "        datetime.date(2016, 7, 11): pd.DataFrame([]), \n",
    "        datetime.date(2016, 7, 12): jail_1,\n",
    "        datetime.date(2016, 7, 13): jail_2,\n",
    "        datetime.date(2016, 7, 14): jail_3\n",
    "    },\n",
    "    datetime.date(2016, 7, 11) :{\n",
    "        datetime.date(2016, 7, 11): pd.DataFrame([]), \n",
    "        datetime.date(2016, 7, 12): jail_1, \n",
    "        datetime.date(2016, 7, 13): jail_2, \n",
    "        datetime.date(2016, 7, 14): jail_3, \n",
    "        datetime.date(2016, 7, 15): jail_4, \n",
    "        datetime.date(2016, 7, 16): pd.DataFrame([]),\n",
    "        datetime.date(2016, 7, 17): pd.DataFrame([])\n",
    "    },\n",
    "    datetime.date(2016, 7, 12) :{\n",
    "        datetime.date(2016, 7, 12): jail_1,\n",
    "        datetime.date(2016, 7, 13): jail_2, \n",
    "        datetime.date(2016, 7, 14): jail_3, \n",
    "        datetime.date(2016, 7, 15): jail_4, \n",
    "        datetime.date(2016, 7, 16): pd.DataFrame([]), \n",
    "        datetime.date(2016, 7, 17): pd.DataFrame([]),\n",
    "        datetime.date(2016, 7, 18): jail_5\n",
    "\n",
    "    },\n",
    "    datetime.date(2016, 7, 13) :{\n",
    "        datetime.date(2016, 7, 13): jail_2,\n",
    "        datetime.date(2016, 7, 14): jail_3, \n",
    "        datetime.date(2016, 7, 15): jail_4, \n",
    "        datetime.date(2016, 7, 16): pd.DataFrame([]), \n",
    "        datetime.date(2016, 7, 17): pd.DataFrame([]), \n",
    "        datetime.date(2016, 7, 18): jail_5,\n",
    "        datetime.date(2016, 7, 19): jail_6\n",
    "    },\n",
    "    datetime.date(2016, 7, 14) :{\n",
    "        datetime.date(2016, 7, 14): jail_3, \n",
    "        datetime.date(2016, 7, 15): jail_4, \n",
    "        datetime.date(2016, 7, 16): pd.DataFrame([]), \n",
    "        datetime.date(2016, 7, 17): pd.DataFrame([]), \n",
    "        datetime.date(2016, 7, 18): jail_5,\n",
    "        datetime.date(2016, 7, 19): jail_6,\n",
    "        datetime.date(2016, 7, 20): jail_7\n",
    "    },\n",
    "    datetime.date(2016, 7, 15) :{\n",
    "        datetime.date(2016, 7, 15): jail_4, \n",
    "        datetime.date(2016, 7, 16): pd.DataFrame([]), \n",
    "        datetime.date(2016, 7, 17): pd.DataFrame([]), \n",
    "        datetime.date(2016, 7, 18): jail_5,\n",
    "        datetime.date(2016, 7, 19): jail_6,\n",
    "        datetime.date(2016, 7, 20): jail_7,\n",
    "        datetime.date(2016, 7, 21): jail_8\n",
    "    }\n",
    "}\n",
    "\n",
    "have_jail_data = [datetime.date(2016, 7, 22), datetime.date(2016, 7, 12), datetime.date(2016, 7, 13), \\\n",
    "                             datetime.date(2016, 7, 14), datetime.date(2016, 7, 17), datetime.date(2016, 7, 18), \\\n",
    "                             datetime.date(2016, 7, 19), datetime.date(2016, 7, 20), datetime.date(2016, 7, 21)]"
   ]
  },
  {
   "cell_type": "markdown",
   "metadata": {},
   "source": [
    "Check for names with no jail record 7 days after bond court appearance in prior days jail records.\n",
    "Makes assumption that defendent wasn't released and brought in on new charges within 7 days from the bond hearing.\n",
    "Sets release day to first day where name does not appear, problem for missing jail days. Will need to lookup and update these records individually."
   ]
  },
  {
   "cell_type": "code",
   "execution_count": null,
   "metadata": {
    "collapsed": false
   },
   "outputs": [],
   "source": [
    "for i, person in db.items():\n",
    "    dates_in_jail = []\n",
    "    if not person[\"Jail Record\"]:\n",
    "        for date, jail_df in release_dates[person[\"Bond Court Date\"]].items():\n",
    "            for j, row in jail_df.iterrows():\n",
    "                jailname = row[\"InmateFirst\"] + \" \" + row[\"InmateLast\"]\n",
    "                if jailname in person[\"All Spellings\"]:\n",
    "                    dates_in_jail.append(date)\n",
    "                    person[\"All Spellings\"].add(jailname)\n",
    "\n",
    "                    # var for section\n",
    "                    race = row[\"Race\"]\n",
    "                    age = row[\"Age\"]\n",
    "                    gender = row[\"Gender\"]\n",
    "                    charge = row[\"charge_description\"]\n",
    "                    statute = row[\"charge_statute\"]\n",
    "                    cclass = row[\"charge_crimeType\"]\n",
    "                    jailid = row[\"Inmateid\"]\n",
    "                    bookid = row[\"Bookingid\"]\n",
    "                    bookdate = row[\"Bookingdate\"]\n",
    "                    dispo = row[\"casedisposition\"]\n",
    "                    bond = row[\"TotalBond\"]\n",
    "\n",
    "\n",
    "                    if pd.notnull(race):\n",
    "                        person[\"Race\"] = race\n",
    "                    if pd.notnull(age):\n",
    "                        person[\"Age\"] = age\n",
    "                    if pd.notnull(gender):\n",
    "                        person[\"Gender\"] = gender\n",
    "                    if pd.notnull(jailid):\n",
    "                        person[\"Jail ID\"] = jailid\n",
    "                    if pd.notnull(bookdate):\n",
    "                        day = dateparser.parse(bookdate)\n",
    "                        person[\"Booking Date\"] = datetime.date(day.year, day.month, day.day)\n",
    "                    if pd.notnull(bond) and bond != 0:\n",
    "                        person[\"Total Bond\"] = float(bond.strip(\"$\").replace(\",\", \"\"))\n",
    "                    else:\n",
    "                        db[iid][\"No Bond\"] = True\n",
    "                        \n",
    "                    break #remove if change to adding charges here\n",
    "                        \n",
    "        if len(dates_in_jail) > 0:\n",
    "            print(dates_in_jail)\n",
    "            person[\"Jail Record\"] = True\n",
    "            person[\"Jail Release Date\"] = max(dates_in_jail) + datetime.timedelta(days=1)\n",
    "            person[\"Days in Jail\"] = (person[\"Jail Release Date\"] - person[\"Booking Date\"]).days\n",
    "            if person[\"Jail Release Date\"] not in have_jail_data:\n",
    "                print(person[\"Jail ID\"]) #The actual release dates for these people need to be confirmed"
   ]
  },
  {
   "cell_type": "markdown",
   "metadata": {},
   "source": [
    "### Post-process: Add all charges to individual record"
   ]
  },
  {
   "cell_type": "markdown",
   "metadata": {},
   "source": [
    "Jail data frames by date of snapshot"
   ]
  },
  {
   "cell_type": "code",
   "execution_count": null,
   "metadata": {
    "collapsed": true
   },
   "outputs": [],
   "source": [
    "jail_dfs = {\n",
    "    datetime.date(2016, 7, 12) : jail_1,\n",
    "    datetime.date(2016, 7, 13) : jail_2,\n",
    "    datetime.date(2016, 7, 14) : jail_3,\n",
    "    datetime.date(2016, 7, 15) : jail_4,\n",
    "    datetime.date(2016, 7, 18) : jail_5,\n",
    "    datetime.date(2016, 7, 19) : jail_6,\n",
    "    datetime.date(2016, 7, 20) : jail_7,\n",
    "    datetime.date(2016, 7, 21) : jail_8,\n",
    "    datetime.date(2016, 7, 22) : jail_9\n",
    "}"
   ]
  },
  {
   "cell_type": "markdown",
   "metadata": {},
   "source": [
    "Add all charges to individual record"
   ]
  },
  {
   "cell_type": "code",
   "execution_count": null,
   "metadata": {
    "collapsed": false
   },
   "outputs": [],
   "source": [
    "for iid, person in db.items():\n",
    "    if person[\"Jail Record\"]:\n",
    "        if person[\"Still in Jail After a Week\"]:\n",
    "            check_date = person[\"Bond Court Date\"] + datetime.timedelta(days=7)\n",
    "        elif person[\"Jail Release Date\"]:\n",
    "            check_date = person[\"Jail Release Date\"] - datetime.timedelta(days=1)\n",
    "\n",
    "        jail = jail_dfs[check_date]\n",
    "        for i, row in jail.iterrows():\n",
    "            if person[\"Jail ID\"] == row[\"Inmateid\"]:\n",
    "                \n",
    "                kwargs = {\n",
    "                    \"charge_desc\" : None,\n",
    "                    \"charge_class\" : None,\n",
    "                    \"charge_statute\" : None,\n",
    "                    \"charge_disp\" : None,\n",
    "                    \"booking_id\" : None,\n",
    "                    \"charge_code\" : None,\n",
    "                    \"rank\" : None\n",
    "                }\n",
    "\n",
    "                if pd.notnull(row[\"charge_description\"]):\n",
    "                    kwargs[\"charge_desc\"] = row[\"charge_description\"].upper()\n",
    "                if pd.notnull(row[\"charge_crimeType\"]):\n",
    "                    kwargs[\"charge_class\"] = standardize_class(row[\"charge_crimeType\"].upper())\n",
    "                elif pd.notnull(row[\"charge_description\"]) or pd.notnull(row[\"charge_statute\"]):\n",
    "                    kwargs[\"charge_class\"] = standardize_class(class_lookup(row[\"charge_statute\"], row[\"charge_description\"]))\n",
    "                if pd.notnull(row[\"charge_statute\"]):\n",
    "                    kwargs[\"charge_statute\"] = row[\"charge_statute\"].upper()\n",
    "                if pd.notnull(row[\"casedisposition\"]):\n",
    "                    kwargs[\"charge_disp\"] = row[\"casedisposition\"].upper()\n",
    "                if pd.notnull(row[\"Bookingid\"]):\n",
    "                    kwargs[\"booking_id\"] = row[\"Bookingid\"]\n",
    "                if kwargs[\"charge_class\"]:\n",
    "                    kwargs[\"rank\"] = class_rank[kwargs[\"charge_class\"]]\n",
    "\n",
    "                person[\"Charges\"].append(new_charge(**kwargs))\n",
    "            \n",
    "    elif person[\"Arrest Record\"]:\n",
    "        for i, row in cpd_arrest_data.iterrows():\n",
    "            if person[\"Arrest ID\"] == row[\"central_booking\"]:\n",
    "                \n",
    "                kwargs = {\n",
    "                    \"charge_desc\" : None,\n",
    "                    \"charge_class\" : None,\n",
    "                    \"charge_statute\" : None,\n",
    "                    \"charge_disp\" : None,\n",
    "                    \"booking_id\" : None,\n",
    "                    \"charge_code\" : None,\n",
    "                    \"rank\" : None\n",
    "                }\n",
    "\n",
    "                if pd.notnull(row[\"description\"]):\n",
    "                    kwargs[\"charge_desc\"] = row[\"description\"].upper()\n",
    "                    \n",
    "                if pd.notnull(row[\"statute\"]):\n",
    "                    kwargs[\"charge_statute\"] = row[\"statute\"].upper()\n",
    "                    \n",
    "                if pd.notnull(row[\"statute\"]) or pd.notnull(row[\"description\"]):\n",
    "                    kwargs[\"charge_class\"] = standardize_class(class_lookup(row[\"statute\"], row[\"description\"]))\n",
    "                if kwargs[\"charge_class\"]:\n",
    "                    kwargs[\"rank\"] = class_rank[kwargs[\"charge_class\"]]\n",
    "\n",
    "                person[\"Charges\"].append(new_charge(**kwargs))\n",
    "    \n",
    "    elif person[\"Court Record\"]:\n",
    "        for i, row in courthouse_lookup.iterrows():\n",
    "            all_names = set([row[\"Name 1\"], row[\"Name 2\"], row[\"Name 3\"], row[\"Name 4\"]])\n",
    "            if bool(person[\"All Spellings\"] & all_names):\n",
    "                kwargs = {\n",
    "                            \"charge_desc\" : None,\n",
    "                            \"charge_class\" : None,\n",
    "                            \"charge_statute\" : None,\n",
    "                            \"charge_disp\" : None,\n",
    "                            \"booking_id\" : None,\n",
    "                            \"charge_code\" : None,\n",
    "                            \"rank\" : None\n",
    "                        }\n",
    "                if pd.notnull(row[\"Statute\"]):\n",
    "                    kwargs[\"charge_statute\"] = row[\"Statute\"]\n",
    "                if pd.notnull(row[\"Charge Description\"]):\n",
    "                    kwargs[\"charge_desc\"] = row[\"Charge Description\"]\n",
    "                if pd.notnull(row[\"Class\"]):\n",
    "                    kwargs[\"charge_class\"] = standardize_class(row[\"Class\"])\n",
    "                elif pd.notnull(row[\"Statute\"]) or pd.notnull(row[\"Charge Description\"]):\n",
    "                    kwargs[\"charge_class\"] = standardize_class(class_lookup(row[\"Statute\"], row[\"Charge Description\"]))\n",
    "                if kwargs[\"charge_class\"]:\n",
    "                    kwargs[\"rank\"] = class_rank[kwargs[\"charge_class\"]]"
   ]
  },
  {
   "cell_type": "markdown",
   "metadata": {},
   "source": [
    "### Post-Process: Get Highest Charge, Charge Count"
   ]
  },
  {
   "cell_type": "markdown",
   "metadata": {},
   "source": [
    "Go through all charges for person to find highest charge"
   ]
  },
  {
   "cell_type": "code",
   "execution_count": null,
   "metadata": {
    "collapsed": false
   },
   "outputs": [],
   "source": [
    "for iid, person in db.items():\n",
    "    current_charge = None\n",
    "    current_class = None\n",
    "    for charge in person[\"Charges\"]:\n",
    "        if class_rank[charge[\"Charge Class\"]] >= class_rank[current_class]:\n",
    "            current_charge = charge[\"Charge Description\"]\n",
    "            current_class = charge[\"Charge Class\"]\n",
    "    person[\"Highest Charge Description\"] = current_charge\n",
    "    person[\"Highest Charge Class\"] = current_class\n",
    "    person[\"Highest Charge Rank\"] = class_rank[current_class]\n",
    "    person[\"Number of Charges\"] = len(person[\"Charges\"])"
   ]
  },
  {
   "cell_type": "markdown",
   "metadata": {},
   "source": [
    "### Write to DataFrame and CSV"
   ]
  },
  {
   "cell_type": "code",
   "execution_count": null,
   "metadata": {
    "collapsed": false
   },
   "outputs": [],
   "source": [
    "grid = []\n",
    "\n",
    "for iid, info in db.items():\n",
    "    for charge in info[\"Charges\"]:\n",
    "        row = []\n",
    "        row.extend([iid, \\\n",
    "                    info[\"Last Name\"], \\\n",
    "                    info[\"First Name\"], \\\n",
    "                    list(info[\"All Spellings\"]), \\\n",
    "                    info[\"Bond Court Date\"], \\\n",
    "                    info[\"Days in Police Custody\"], \\\n",
    "                    info[\"CPD Arrest Date\"], \\\n",
    "                    info[\"CPD Release Date\"], \\\n",
    "                    info[\"Booking Date\"], \\\n",
    "                    info[\"Total Bond\"], \\\n",
    "                    info[\"Highest Charge Rank\"], \\\n",
    "                    info[\"Highest Charge Class\"], \\\n",
    "                    info[\"Highest Charge Description\"], \\\n",
    "                    info[\"Race\"], \\\n",
    "                    info[\"Age\"], \\\n",
    "                    info[\"Gender\"], \\\n",
    "                    info[\"Jail ID\"], \\\n",
    "                    info[\"Arrest ID\"], \\\n",
    "                    info[\"Jail Record\"], \\\n",
    "                    info[\"Arrest Record\"], \\\n",
    "                    info[\"Court Record\"], \\\n",
    "                    info[\"Unaccounted Custody\"], \\\n",
    "                    info[\"Number of Charges\"], \\\n",
    "                    info[\"No Bond\"], \\\n",
    "                    info[\"Bond Type\"], \\\n",
    "                    info[\"Days in Jail\"], \\\n",
    "                    info[\"Judge\"], \\\n",
    "                    info[\"Old Scale\"], \\\n",
    "                    info[\"Threat Risk Scale\"], \\\n",
    "                    info[\"No Show Risk Scale\"], \\\n",
    "                    info[\"Courthouse\"], \\\n",
    "                    info[\"Jail Release Date\"], \\\n",
    "                    info[\"Still in Jail After a Week\"], \\\n",
    "                    info[\"Courthouse Record\"], \\\n",
    "                    info[\"First Name from Observations\"], \\\n",
    "                    info[\"Last Name from Observations\"], \\\n",
    "                    charge[\"Charge Class\"], \\\n",
    "                    charge[\"Charge Description\"], \\\n",
    "                    charge[\"Case Disposition\"], \\\n",
    "                    charge[\"Statute\"], \\\n",
    "                    charge[\"Booking ID\"], \\\n",
    "                    charge[\"Charge Code\"]])\n",
    "        if not charge[\"Charge Class\"]:\n",
    "            unclassed_charges.append((charge[\"Statute\"], charge[\"Charge Description\"]))\n",
    "        \n",
    "        grid.append(row)\n",
    "                    "
   ]
  },
  {
   "cell_type": "code",
   "execution_count": null,
   "metadata": {
    "collapsed": true
   },
   "outputs": [],
   "source": [
    "headings = [\n",
    "    \"DB ID\", \\\n",
    "    \"Last Name\", \\\n",
    "    \"First Name\", \\\n",
    "    \"All Spellings\", \\\n",
    "    \"Bond Court Date\", \\\n",
    "    \"Days in Police Custody\", \\\n",
    "    \"CPD Arrest Date\", \\\n",
    "    \"CPD Release Date\", \\\n",
    "    \"Booking Date\", \\\n",
    "    \"Total Bond\", \\\n",
    "    \"Highest Charge Rank\", \\\n",
    "    \"Highest Charge Class\", \\\n",
    "    \"Highest Charge Description\", \\\n",
    "    \"Race\", \\\n",
    "    \"Age\", \\\n",
    "    \"Gender\", \\\n",
    "    \"Jail ID\", \\\n",
    "    \"Arrest ID\", \\\n",
    "    \"Jail Record\", \\\n",
    "    \"Arrest Record\", \\\n",
    "    \"Court Record\", \\\n",
    "    \"Unaccounted Custody\", \\\n",
    "    \"Number of Charges\", \\\n",
    "    \"No Bond\", \\\n",
    "    \"Bond Type\", \\\n",
    "    \"Days in Jail\", \\\n",
    "    \"Judge\", \\\n",
    "    \"Old Scale\", \\\n",
    "    \"Threat Risk Scale\", \\\n",
    "    \"No Show Risk Scale\", \\\n",
    "    \"Courthouse\", \\\n",
    "    \"Jail Release Date\", \\\n",
    "    \"Still in Jail After a Week\", \\\n",
    "    \"Courthouse Record\", \\\n",
    "    \"First Name from Observations\", \\\n",
    "    \"Last Name from Observations\", \\\n",
    "    \"Charge Class\", \\\n",
    "    \"Charge Description\", \\\n",
    "    \"Case Disposition\", \\\n",
    "    \"Statute\", \\\n",
    "    \"Booking ID\", \\\n",
    "    \"Charge Code\"\n",
    "]"
   ]
  },
  {
   "cell_type": "code",
   "execution_count": null,
   "metadata": {
    "collapsed": false
   },
   "outputs": [],
   "source": [
    "all_data = pd.DataFrame(grid, columns = headings)"
   ]
  },
  {
   "cell_type": "code",
   "execution_count": null,
   "metadata": {
    "collapsed": false
   },
   "outputs": [],
   "source": [
    "all_data.to_csv(\"../Output/Representation of Full Database.csv\", index=False)"
   ]
  },
  {
   "cell_type": "code",
   "execution_count": null,
   "metadata": {
    "collapsed": true
   },
   "outputs": [],
   "source": [
    "missing_charges = pd.DataFrame(unclassed_charges, columns = [\"Statute\", \"Description\"])"
   ]
  },
  {
   "cell_type": "code",
   "execution_count": null,
   "metadata": {
    "collapsed": true
   },
   "outputs": [],
   "source": [
    "missing_charges.to_csv(\"../Output/3rd Round Unmatched Charges.csv\", index=False)"
   ]
  },
  {
   "cell_type": "markdown",
   "metadata": {},
   "source": [
    "### Send to Mongo Database"
   ]
  },
  {
   "cell_type": "markdown",
   "metadata": {},
   "source": [
    "first run \"sudo mongod\" in terminal to start mongo instance"
   ]
  },
  {
   "cell_type": "code",
   "execution_count": null,
   "metadata": {
    "collapsed": true
   },
   "outputs": [],
   "source": [
    "from pymongo import MongoClient"
   ]
  },
  {
   "cell_type": "code",
   "execution_count": null,
   "metadata": {
    "collapsed": true
   },
   "outputs": [],
   "source": [
    "client = MongoClient()"
   ]
  },
  {
   "cell_type": "code",
   "execution_count": null,
   "metadata": {
    "collapsed": true
   },
   "outputs": [],
   "source": [
    "client.drop_database(\"BailBondDB\")"
   ]
  },
  {
   "cell_type": "code",
   "execution_count": null,
   "metadata": {
    "collapsed": true
   },
   "outputs": [],
   "source": [
    "bbdb = client[\"BailBondDB\"]\n",
    "coll = bbdb[\"bond_court_individuals\"]"
   ]
  },
  {
   "cell_type": "markdown",
   "metadata": {},
   "source": [
    "Change datetime.date to datetime.datetime for database. Hours and minutes set to 0."
   ]
  },
  {
   "cell_type": "code",
   "execution_count": null,
   "metadata": {
    "collapsed": true
   },
   "outputs": [],
   "source": [
    "for iid, person in db.items():\n",
    "    if person['CPD Arrest Date']:\n",
    "        d = person['CPD Arrest Date']\n",
    "        person['CPD Arrest Date'] = datetime.datetime(d.year, d.month, d.day, 0, 0)\n",
    "    if ['Bond Court Date']:\n",
    "        d = person['Bond Court Date']\n",
    "        person['Bond Court Date'] = datetime.datetime(d.year, d.month, d.day, 0, 0)\n",
    "    if person['CPD Release Date']:\n",
    "        d = person['CPD Release Date']\n",
    "        person['CPD Release Date'] = datetime.datetime(d.year, d.month, d.day, 0, 0)\n",
    "    if person['Booking Date']:\n",
    "        d = person['Booking Date']\n",
    "        person['Booking Date'] = datetime.datetime(d.year, d.month, d.day, 0, 0)\n",
    "    if person[\"Jail Release Date\"]:\n",
    "        d = person[\"Jail Release Date\"]\n",
    "        person[\"Jail Release Date\"] = datetime.datetime(d.year, d.month, d.day, 0, 0)\n",
    "    if type(person[\"Days in Jail\"]) == datetime.timedelta:\n",
    "        person[\"Days in Jail\"] = person[\"Days in Jail\"].days"
   ]
  },
  {
   "cell_type": "code",
   "execution_count": null,
   "metadata": {
    "collapsed": false
   },
   "outputs": [],
   "source": [
    "for iid, person in db.items():\n",
    "    list_trans = person[\"All Spellings\"]\n",
    "    person[\"All Spellings\"] = list(list_trans)\n",
    "    coll.insert_one(person)"
   ]
  },
  {
   "cell_type": "code",
   "execution_count": null,
   "metadata": {
    "collapsed": false
   },
   "outputs": [],
   "source": [
    "client.close()"
   ]
  },
  {
   "cell_type": "code",
   "execution_count": null,
   "metadata": {
    "collapsed": true
   },
   "outputs": [],
   "source": []
  }
 ],
 "metadata": {
  "kernelspec": {
   "display_name": "Python 3",
   "language": "python",
   "name": "python3"
  },
  "language_info": {
   "codemirror_mode": {
    "name": "ipython",
    "version": 3
   },
   "file_extension": ".py",
   "mimetype": "text/x-python",
   "name": "python",
   "nbconvert_exporter": "python",
   "pygments_lexer": "ipython3",
   "version": "3.5.1"
  }
 },
 "nbformat": 4,
 "nbformat_minor": 0
}
