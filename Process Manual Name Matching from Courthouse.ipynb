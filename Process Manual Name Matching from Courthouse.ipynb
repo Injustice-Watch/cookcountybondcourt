{
 "cells": [
  {
   "cell_type": "code",
   "execution_count": 1,
   "metadata": {
    "collapsed": true
   },
   "outputs": [],
   "source": [
    "import pandas as pd\n",
    "import numpy as np\n",
    "import datetime\n",
    "import dateparser\n",
    "import dateutil"
   ]
  },
  {
   "cell_type": "code",
   "execution_count": 2,
   "metadata": {
    "collapsed": true
   },
   "outputs": [],
   "source": [
    "matches = pd.read_csv(\"../Helper Data/Missing People Matches.csv\", header = 0)"
   ]
  },
  {
   "cell_type": "code",
   "execution_count": 3,
   "metadata": {
    "collapsed": false
   },
   "outputs": [],
   "source": [
    "grid = []\n",
    "for i, row in matches.iterrows():\n",
    "    new_row = []\n",
    "    if row[\"Not Found at Courthouse\"] == \"NOT FOUND\" and row[\"Fuzzy Found\"] != \"FOUND\":\n",
    "        new_row.append((row[\"First Name\"] + \" \" + row[\"Last Name\"]).upper())\n",
    "        if pd.notnull(row[\"Alt Name 1\"]):\n",
    "            new_row.append(row[\"Alt Name 1\"].upper())\n",
    "        if pd.notnull(row[\"Alt Name 2\"]):\n",
    "            new_row.append(row[\"Alt Name 2\"].upper())\n",
    "        if pd.notnull(row[\"Alt Name 3\"]):\n",
    "            new_row.append(row[\"Alt Name 3\"].upper())\n",
    "        grid.append(new_row)\n",
    "        \n",
    "        \n",
    "unmatched_names = pd.DataFrame(grid)"
   ]
  },
  {
   "cell_type": "code",
   "execution_count": 4,
   "metadata": {
    "collapsed": false
   },
   "outputs": [],
   "source": [
    "unmatched_names.to_csv(\"../Output/Still Unmatched Names.csv\", index = False, header = False)"
   ]
  },
  {
   "cell_type": "code",
   "execution_count": 5,
   "metadata": {
    "collapsed": true
   },
   "outputs": [],
   "source": [
    "grid = []\n",
    "for i, row in matches.iterrows():\n",
    "    new_row = []\n",
    "    if row[\"Fuzzy Found\"] == \"FOUND\":\n",
    "        new_row.append((row[\"First Name\"] + \" \" + row[\"Last Name\"]).upper())\n",
    "        if pd.notnull(row[\"Alt Name 1\"]):\n",
    "            new_row.append(row[\"Alt Name 1\"].upper())\n",
    "        if pd.notnull(row[\"Alt Name 2\"]):\n",
    "            new_row.append(row[\"Alt Name 2\"].upper())\n",
    "        if pd.notnull(row[\"Alt Name 3\"]):\n",
    "            new_row.append(row[\"Alt Name 3\"].upper())\n",
    "        grid.append(new_row)\n",
    "        \n",
    "        \n",
    "fuzzy_found_names = pd.DataFrame(grid)"
   ]
  },
  {
   "cell_type": "code",
   "execution_count": 6,
   "metadata": {
    "collapsed": false
   },
   "outputs": [],
   "source": [
    "fuzzy_found_names.to_csv(\"../Output/Fuzzy Found Names.csv\", header = False, index = False)"
   ]
  },
  {
   "cell_type": "code",
   "execution_count": 7,
   "metadata": {
    "collapsed": false
   },
   "outputs": [],
   "source": [
    "grid = []\n",
    "for i, row in matches.iterrows():\n",
    "    new_row = []\n",
    "    if row[\"Not Found at Courthouse\"] != \"NOT FOUND\" and row[\"Fuzzy Found\"] != \"FOUND\":\n",
    "        new_row.append((row[\"First Name\"] + \" \" + row[\"Last Name\"]).upper())\n",
    "        if pd.notnull(row[\"Alt Name 1\"]):\n",
    "            new_row.append(row[\"Alt Name 1\"].upper())\n",
    "        if pd.notnull(row[\"Alt Name 2\"]):\n",
    "            new_row.append(row[\"Alt Name 2\"].upper())\n",
    "        if pd.notnull(row[\"Alt Name 3\"]):\n",
    "            new_row.append(row[\"Alt Name 3\"].upper())\n",
    "        grid.append(new_row)\n",
    "        \n",
    "courthouse_only_names = pd.DataFrame(grid)"
   ]
  },
  {
   "cell_type": "code",
   "execution_count": 8,
   "metadata": {
    "collapsed": true
   },
   "outputs": [],
   "source": [
    "courthouse_only_names.drop_duplicates(inplace=True)"
   ]
  },
  {
   "cell_type": "code",
   "execution_count": 9,
   "metadata": {
    "collapsed": false
   },
   "outputs": [],
   "source": [
    "courthouse_only_names.to_csv(\"../Output/Courthouse Only Names.csv\", header = False, index = False)"
   ]
  },
  {
   "cell_type": "code",
   "execution_count": 10,
   "metadata": {
    "collapsed": false
   },
   "outputs": [],
   "source": [
    "grid = []\n",
    "for i, row in matches.iterrows():\n",
    "    new_row = []\n",
    "    if row[\"Not Found at Courthouse\"] != \"NOT FOUND\":\n",
    "        new_row.append((row[\"First Name\"] + \" \" + row[\"Last Name\"]).upper())\n",
    "        if pd.notnull(row[\"Alt Name 1\"]):\n",
    "            new_row.append(row[\"Alt Name 1\"].upper())\n",
    "        else:\n",
    "            new_row.append(None)\n",
    "        if pd.notnull(row[\"Alt Name 2\"]):\n",
    "            new_row.append(row[\"Alt Name 2\"].upper())\n",
    "        else:\n",
    "            new_row.append(None)\n",
    "        if pd.notnull(row[\"Alt Name 3\"]):\n",
    "            new_row.append(row[\"Alt Name 3\"].upper())\n",
    "        else:\n",
    "            new_row.append(None)\n",
    "        if pd.notnull(row[\"DOB\"]):\n",
    "            day = dateparser.parse(row[\"DOB\"])\n",
    "            try:\n",
    "                day_1 = datetime.date(day.year, day.month, day.day)\n",
    "                new_row.append(day_1)\n",
    "            except AttributeError:\n",
    "                new_row.append(None)\n",
    "        else:\n",
    "            new_row.append(None)\n",
    "        if pd.notnull(row[\"CB Number\"]):\n",
    "            new_row.append(row[\"CB Number\"])\n",
    "        else:\n",
    "            new_row.append(None)\n",
    "        if pd.notnull(row[\"Charge Description\"]):\n",
    "            new_row.append(row[\"Charge Description\"].upper())\n",
    "        else:\n",
    "            new_row.append(None)\n",
    "        if pd.notnull(row[\"Statute Violated\"]):\n",
    "            new_row.append(str(row[\"Statute Violated\"]).upper())\n",
    "        else:\n",
    "            new_row.append(None)\n",
    "        if pd.notnull(row[\"Charge Class\"]):\n",
    "            new_row.append(row[\"Charge Class\"].upper())\n",
    "        else:\n",
    "            new_row.append(None)\n",
    "        \n",
    "        grid.append(new_row)\n",
    "        \n",
    "courthouse_alldata = pd.DataFrame(grid)"
   ]
  },
  {
   "cell_type": "code",
   "execution_count": 13,
   "metadata": {
    "collapsed": false
   },
   "outputs": [],
   "source": [
    "courthouse_alldata.to_csv(\"../Output/Courthouse Manual Matches.csv\", index = False, \\\n",
    "                          header = [\"Name 1\", \"Name 2\", \"Name 3\", \"Name 4\", \"DOB\", \"CBN\", \"Charge Description\", \"Statute\", \"Class\"])"
   ]
  },
  {
   "cell_type": "code",
   "execution_count": null,
   "metadata": {
    "collapsed": true
   },
   "outputs": [],
   "source": []
  }
 ],
 "metadata": {
  "kernelspec": {
   "display_name": "Python 3",
   "language": "python",
   "name": "python3"
  },
  "language_info": {
   "codemirror_mode": {
    "name": "ipython",
    "version": 3
   },
   "file_extension": ".py",
   "mimetype": "text/x-python",
   "name": "python",
   "nbconvert_exporter": "python",
   "pygments_lexer": "ipython3",
   "version": "3.5.1"
  }
 },
 "nbformat": 4,
 "nbformat_minor": 0
}
