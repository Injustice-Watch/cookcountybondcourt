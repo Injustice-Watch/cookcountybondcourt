{
 "cells": [
  {
   "cell_type": "code",
   "execution_count": null,
   "metadata": {
    "collapsed": true
   },
   "outputs": [],
   "source": [
    "import pandas as pd\n",
    "import numpy as np\n",
    "import datetime\n",
    "import dateparser\n",
    "import dateutil\n",
    "from pymongo import MongoClient\n",
    "from statistics import mode"
   ]
  },
  {
   "cell_type": "code",
   "execution_count": null,
   "metadata": {
    "collapsed": true
   },
   "outputs": [],
   "source": [
    "client = MongoClient()\n",
    "bbdb = client[\"BailBondDB\"]\n",
    "coll = bbdb[\"bond_court_individuals\"]"
   ]
  },
  {
   "cell_type": "markdown",
   "metadata": {},
   "source": [
    "### Records Useable for Racial Disparity Analysis"
   ]
  },
  {
   "cell_type": "markdown",
   "metadata": {},
   "source": [
    "People who either have no record, no race data, or have been in jail too long for the case we saw to be the reason they are in jail. These are not useable."
   ]
  },
  {
   "cell_type": "code",
   "execution_count": null,
   "metadata": {
    "collapsed": false
   },
   "outputs": [],
   "source": [
    "no_record = coll.find(\n",
    "    {\"$or\" : [\n",
    "        { \"$and\" : [\n",
    "            {\"Jail Record\" : False},\n",
    "            {\"Arrest Record\" : False},\n",
    "            {\"Court Record\" : False}\n",
    "        ]},\n",
    "        {\"Days in Jail\" : {\"$gt\" : 14}},\n",
    "        {\"Race\" : None}\n",
    "    ]}\n",
    ")"
   ]
  },
  {
   "cell_type": "code",
   "execution_count": null,
   "metadata": {
    "collapsed": false
   },
   "outputs": [],
   "source": [
    "no_record.count()"
   ]
  },
  {
   "cell_type": "markdown",
   "metadata": {},
   "source": [
    "People for whom corroborating record was found, who hadn't been in jail more than a week before bond court date, and who have race recorded."
   ]
  },
  {
   "cell_type": "code",
   "execution_count": null,
   "metadata": {
    "collapsed": false
   },
   "outputs": [],
   "source": [
    "race_data = coll.find(\n",
    "    {\"$and\" : [\n",
    "        {\"$or\" : [\n",
    "            {\"Jail Record\" : True},\n",
    "            {\"Arrest Record\" : True},\n",
    "            {\"Court Record\" : True}\n",
    "        ]},\n",
    "        {\"$or\" : [\n",
    "            {\"Days in Jail\" : {\"$lt\" : 15}},\n",
    "            {\"Days in Jail\" : None}\n",
    "        ]},\n",
    "        {\"Race\" : { \"$ne\" : None}}\n",
    "    ]}\n",
    ")"
   ]
  },
  {
   "cell_type": "code",
   "execution_count": null,
   "metadata": {
    "collapsed": false
   },
   "outputs": [],
   "source": [
    "race_data.count()"
   ]
  },
  {
   "cell_type": "code",
   "execution_count": null,
   "metadata": {
    "collapsed": false
   },
   "outputs": [],
   "source": [
    "race_coll = bbdb[\"race_analysis\"]\n",
    "for record in race_data:\n",
    "    race_coll.insert_one(record)"
   ]
  },
  {
   "cell_type": "code",
   "execution_count": null,
   "metadata": {
    "collapsed": false
   },
   "outputs": [],
   "source": [
    "race_coll.find().count()"
   ]
  },
  {
   "cell_type": "code",
   "execution_count": null,
   "metadata": {
    "collapsed": true
   },
   "outputs": [],
   "source": [
    "all_records = coll.find()"
   ]
  },
  {
   "cell_type": "code",
   "execution_count": null,
   "metadata": {
    "collapsed": false
   },
   "outputs": [],
   "source": [
    "all_records.count()"
   ]
  },
  {
   "cell_type": "code",
   "execution_count": null,
   "metadata": {
    "collapsed": false
   },
   "outputs": [],
   "source": [
    "coll.find({\"Highest Charge Class\" : None, \"Number of Charges\" : 0}).count()"
   ]
  },
  {
   "cell_type": "code",
   "execution_count": null,
   "metadata": {
    "collapsed": false
   },
   "outputs": [],
   "source": [
    "coll.find({\"Number of Charges\" : 0}).count()"
   ]
  },
  {
   "cell_type": "code",
   "execution_count": null,
   "metadata": {
    "collapsed": false
   },
   "outputs": [],
   "source": [
    "coll.find({ \"$or\" : [\n",
    "                {\"Total Bond\" : 0},\n",
    "                {\"Total Bond\" : None}\n",
    "        ]}\n",
    ").count()"
   ]
  },
  {
   "cell_type": "code",
   "execution_count": null,
   "metadata": {
    "collapsed": false
   },
   "outputs": [],
   "source": [
    "people_w_record_no_charges = coll.find(\n",
    "    { \"$and\" : [\n",
    "        { \"$or\" : [\n",
    "            {\"Jail Record\" : True},\n",
    "            {\"Arrest Record\" : True},\n",
    "            {\"Court Record\" : True}\n",
    "        ]},\n",
    "         {\"Highest Charge Class\" : None}\n",
    "    ]}\n",
    ")"
   ]
  },
  {
   "cell_type": "code",
   "execution_count": null,
   "metadata": {
    "collapsed": false
   },
   "outputs": [],
   "source": [
    "inex_missing_charges = []\n",
    "for person in people_w_record_no_charges:\n",
    "    inex_missing_charges.append(person[\"All Spellings\"])\n",
    "    inex_missing_charges.append(person[\"Charges\"])\n",
    "    inex_missing_charges.append(person[\"Jail Record\"])\n",
    "    inex_missing_charges.append(person[\"Arrest Record\"])\n",
    "    inex_missing_charges.append(person[\"Court Record\"])\n",
    "    inex_missing_charges.append(person[\"Arrest ID\"])"
   ]
  },
  {
   "cell_type": "code",
   "execution_count": null,
   "metadata": {
    "collapsed": false
   },
   "outputs": [],
   "source": [
    "inex_missing_charges"
   ]
  },
  {
   "cell_type": "markdown",
   "metadata": {},
   "source": [
    "### Investigating Racial Disparities"
   ]
  },
  {
   "cell_type": "code",
   "execution_count": null,
   "metadata": {
    "collapsed": false
   },
   "outputs": [],
   "source": [
    "days_1 = race_coll.find({\"Days in Jail\" : 1})\n",
    "days_2 = race_coll.find({\"Days in Jail\" : 2})\n",
    "days_3 = race_coll.find({\"Days in Jail\" : 3})\n",
    "days_4 = race_coll.find({\"Days in Jail\" : 4})\n",
    "days_5 = race_coll.find({\"Days in Jail\" : 5})\n",
    "days_6 = race_coll.find({\"Days in Jail\" : 6})\n",
    "days_7 = race_coll.find({\"Days in Jail\" : 7})"
   ]
  },
  {
   "cell_type": "code",
   "execution_count": null,
   "metadata": {
    "collapsed": false
   },
   "outputs": [],
   "source": [
    "print(days_1.count(), days_2.count(), days_3.count(), days_4.count(), days_5.count(), days_6.count(), days_7.count())"
   ]
  },
  {
   "cell_type": "code",
   "execution_count": null,
   "metadata": {
    "collapsed": true
   },
   "outputs": [],
   "source": [
    "b_7days = race_coll.find({\"Days in Jail\" : 7, \"Race\" : \"BLACK\"}).count()\n",
    "nb_7days = race_coll.find({\"Days in Jail\" : 7, \"Race\" : {\"$ne\" : \"BLACK\"}}).count()\n",
    "b = race_coll.find({\"Race\" : \"BLACK\"}).count()\n",
    "nb = race_coll.find({\"Race\" : {\"$ne\" : \"BLACK\"}}).count()"
   ]
  },
  {
   "cell_type": "code",
   "execution_count": null,
   "metadata": {
    "collapsed": false
   },
   "outputs": [],
   "source": [
    "print(nb, b, nb_7days, b_7days)"
   ]
  },
  {
   "cell_type": "code",
   "execution_count": null,
   "metadata": {
    "collapsed": false
   },
   "outputs": [],
   "source": [
    "perc_init_black = (b/(b + nb))*100 #percent initial sample who are black\n",
    "perc_jail_black = (b_7days/(nb_7days + b_7days))*100 #percent black in jail 7 days later"
   ]
  },
  {
   "cell_type": "code",
   "execution_count": null,
   "metadata": {
    "collapsed": false
   },
   "outputs": [],
   "source": [
    "print(perc_init_black, perc_jail_black)"
   ]
  },
  {
   "cell_type": "code",
   "execution_count": null,
   "metadata": {
    "collapsed": true
   },
   "outputs": [],
   "source": [
    "b_7days_misd = race_coll.find(\n",
    "    {\"$and\" : [\n",
    "        {\"Race\" : \"BLACK\"},\n",
    "        {\"$or\" : [\n",
    "            {\"Highest Charge Class\" : \"CLASS A MISDEMEANOR\"},\n",
    "            {\"Highest Charge Class\" : \"CLASS B MISDEMEANOR\"},\n",
    "            {\"Highest Charge Class\" : \"CLASS C MISDEMEANOR\"}\n",
    "        ]},\n",
    "        {\"Still in Jail After a Week\" : True}\n",
    "    ]}\n",
    ").count()\n",
    "nb_7days_misd = race_coll.find(\n",
    "    {\"$and\" : [\n",
    "        {\"Race\" : {\"$ne\" : \"BLACK\"}},\n",
    "        {\"$or\" : [\n",
    "            {\"Highest Charge Class\" : \"CLASS A MISDEMEANOR\"},\n",
    "            {\"Highest Charge Class\" : \"CLASS B MISDEMEANOR\"},\n",
    "            {\"Highest Charge Class\" : \"CLASS C MISDEMEANOR\"}\n",
    "        ]},\n",
    "        {\"Still in Jail After a Week\" : True}\n",
    "    ]}\n",
    ").count()\n",
    "b_misd = race_coll.find(\n",
    "    {\"$and\" : [\n",
    "        {\"Race\" : \"BLACK\"},\n",
    "        {\"$or\" : [\n",
    "            {\"Highest Charge Class\" : \"CLASS A MISDEMEANOR\"},\n",
    "            {\"Highest Charge Class\" : \"CLASS B MISDEMEANOR\"},\n",
    "            {\"Highest Charge Class\" : \"CLASS C MISDEMEANOR\"}\n",
    "        ]}]\n",
    "}).count()\n",
    "nb_misd = race_coll.find(\n",
    "    {\"$and\" :\n",
    "        [{\"Race\" : {\"$ne\" : \"BLACK\"}},\n",
    "        {\"$or\" : [\n",
    "            {\"Highest Charge Class\" : \"CLASS A MISDEMEANOR\"},\n",
    "            {\"Highest Charge Class\" : \"CLASS B MISDEMEANOR\"},\n",
    "            {\"Highest Charge Class\" : \"CLASS C MISDEMEANOR\"}\n",
    "        ]}]\n",
    "}\n",
    ").count()\n",
    "\n",
    "b_7days_4 = race_coll.find({\"Still in Jail After a Week\" : True, \"Race\" : \"BLACK\", \"Highest Charge Class\" : \"CLASS 4 FELONY\"}).count()\n",
    "nb_7days_4 = race_coll.find({\"Still in Jail After a Week\" : True, \"Race\" : {\"$ne\" : \"BLACK\"}, \"Highest Charge Class\" : \"CLASS 4 FELONY\"}).count()\n",
    "b_4 = race_coll.find({\"Race\" : \"BLACK\", \"Highest Charge Class\" : \"CLASS 4 FELONY\"}).count()\n",
    "nb_4 = race_coll.find({\"Race\" : {\"$ne\" : \"BLACK\"}, \"Highest Charge Class\" : \"CLASS 4 FELONY\"}).count()\n",
    "\n",
    "b_7days_3 = race_coll.find({\"Still in Jail After a Week\" : True, \"Race\" : \"BLACK\", \"Highest Charge Class\" : \"CLASS 3 FELONY\"}).count()\n",
    "nb_7days_3 = race_coll.find({\"Still in Jail After a Week\" : True, \"Race\" : {\"$ne\" : \"BLACK\"}, \"Highest Charge Class\" : \"CLASS 3 FELONY\"}).count()\n",
    "b_3 = race_coll.find({\"Race\" : \"BLACK\", \"Highest Charge Class\" : \"CLASS 3 FELONY\"}).count()\n",
    "nb_3 = coll.find({\"Race\" : {\"$ne\" : \"BLACK\"}, \"Highest Charge Class\" : \"CLASS 3 FELONY\"}).count()\n",
    "\n",
    "b_7days_2 = race_coll.find({\"Still in Jail After a Week\" : True, \"Race\" : \"BLACK\", \"Highest Charge Class\" : \"CLASS 2 FELONY\"}).count()\n",
    "nb_7days_2 = race_coll.find({\"Still in Jail After a Week\" : True, \"Race\" : {\"$ne\" : \"BLACK\"}, \"Highest Charge Class\" : \"CLASS 2 FELONY\"}).count()\n",
    "b_2 = race_coll.find({\"Race\" : \"BLACK\", \"Highest Charge Class\" : \"CLASS 2 FELONY\"}).count()\n",
    "nb_2 = race_coll.find({\"Race\" : {\"$ne\" : \"BLACK\"}, \"Highest Charge Class\" : \"CLASS 2 FELONY\"}).count()\n",
    "\n",
    "b_7days_1 = race_coll.find({\"Still in Jail After a Week\" : True, \"Race\" : \"BLACK\", \"Highest Charge Class\" : \"CLASS 1 FELONY\"}).count()\n",
    "nb_7days_1 = race_coll.find({\"Still in Jail After a Week\" : True, \"Race\" : {\"$ne\" : \"BLACK\"}, \"Highest Charge Class\" : \"CLASS 1 FELONY\"}).count()\n",
    "b_1 = race_coll.find({\"Race\" : \"BLACK\", \"Highest Charge Class\" : \"CLASS 1 FELONY\"}).count()\n",
    "nb_1 = race_coll.find({\"Race\" : {\"$ne\" : \"BLACK\"}, \"Highest Charge Class\" : \"CLASS 1 FELONY\"}).count()\n",
    "\n",
    "b_7days_x = race_coll.find({\"Still in Jail After a Week\" : True, \"Race\" : \"BLACK\", \"Highest Charge Class\" : \"CLASS X FELONY\"}).count()\n",
    "nb_7days_x = race_coll.find({\"Still in Jail After a Week\" : True, \"Race\" : {\"$ne\" : \"BLACK\"}, \"Highest Charge Class\" : \"CLASS X FELONY\"}).count()\n",
    "b_x = race_coll.find({\"Race\" : \"BLACK\", \"Highest Charge Class\" : \"CLASS X FELONY\"}).count()\n",
    "nb_x = race_coll.find({\"Race\" : {\"$ne\" : \"BLACK\"}, \"Highest Charge Class\" : \"CLASS X FELONY\"}).count()\n",
    "\n",
    "b_7days_m = race_coll.find({\"Still in Jail After a Week\" : True, \"Race\" : \"BLACK\", \"Highest Charge Class\" : \"CLASS M FELONY\"}).count()\n",
    "nb_7days_m = race_coll.find({\"Still in Jail After a Week\" : True, \"Race\" : {\"$ne\" : \"BLACK\"}, \"Highest Charge Class\" : \"CLASS M FELONY\"}).count()\n",
    "b_m = race_coll.find({\"Race\" : \"BLACK\", \"Highest Charge Class\" : \"CLASS M FELONY\"}).count()\n",
    "nb_m = race_coll.find({\"Race\" : {\"$ne\" : \"BLACK\"}, \"Highest Charge Class\" : \"CLASS M FELONY\"}).count()"
   ]
  },
  {
   "cell_type": "code",
   "execution_count": null,
   "metadata": {
    "collapsed": false
   },
   "outputs": [],
   "source": [
    "clmisd_perc_arrested = (b_misd/(b_misd + nb_misd))*100\n",
    "cl4_perc_arrested = (b_4/(b_4 + nb_4))*100\n",
    "cl3_perc_arrested = (b_3/(b_3 + nb_3))*100\n",
    "cl2_perc_arrested = (b_2/(b_2 + nb_2))*100\n",
    "cl1_perc_arrested = (b_1/(b_1 + nb_1))*100\n",
    "clx_perc_arrested = (b_x/(b_x + nb_x))*100\n",
    "clm_perc_arrested = (b_m/(b_m + nb_m))*100\n",
    "clmisd_perc_jail = (b_7days_misd/(b_7days_misd + nb_7days_misd))*100\n",
    "cl4_perc_jail = (b_7days_4/(b_7days_4 + nb_7days_4))*100\n",
    "cl3_perc_jail = (b_7days_3/(b_7days_3 + nb_7days_3))*100\n",
    "cl2_perc_jail = (b_7days_2/(b_7days_2 + nb_7days_2))*100\n",
    "cl1_perc_jail = (b_7days_1/(b_7days_1 + nb_7days_1))*100\n",
    "clx_perc_jail = (b_7days_x/(b_7days_x + nb_7days_x))*100\n",
    "clm_perc_jail = (b_7days_m/(b_7days_m + nb_7days_m))*100\n",
    "\n",
    "total_misd_arrested = b_misd + nb_misd\n",
    "total_misd_jail = b_7days_misd + nb_7days_misd\n",
    "total_4_arrested = b_4 + nb_4\n",
    "total_4_jail = b_7days_4 + nb_7days_4\n",
    "total_3_arrested = b_3 + nb_3\n",
    "total_3_jail = b_7days_3 + nb_7days_3\n",
    "total_2_arrested = b_2 + nb_2\n",
    "total_2_jail = b_7days_2 + nb_7days_2\n",
    "total_1_arrested = b_1 + nb_1\n",
    "total_1_jail = b_7days_1 + nb_7days_1\n",
    "total_x_arrested = b_x + nb_x\n",
    "total_x_jail = b_7days_x + nb_7days_x\n",
    "total_m_arrested = b_m + nb_m\n",
    "total_m_jail = b_7days_m + nb_7days_m\n",
    "\n",
    "head = (\"Felony Class\", \"% Bl. Init Obs\", \"Total Init Obs\", \"% Bl. Jail 7 Days\", \"Total Jail 7 Days\")\n",
    "totals = [\n",
    "    (\"All Misdemeanors\", clmisd_perc_arrested, total_misd_arrested, clmisd_perc_jail, total_misd_jail),\n",
    "    (\"Class 4 Felony\", cl4_perc_arrested, total_4_arrested, cl4_perc_jail, total_4_jail),\n",
    "    (\"Class 3 Felony\", cl3_perc_arrested, total_3_arrested, cl3_perc_jail, total_3_jail),\n",
    "    (\"Class 2 Felony\", cl2_perc_arrested, total_2_arrested, cl2_perc_jail, total_2_jail),\n",
    "    (\"Class 1 Felony\", cl1_perc_arrested, total_1_arrested, cl1_perc_jail, total_1_jail),\n",
    "    (\"Class X Felony\", clx_perc_arrested, total_x_arrested, clx_perc_jail, total_x_jail),\n",
    "    (\"Class M Felony\", clm_perc_arrested, total_m_arrested, clm_perc_jail, total_m_jail)\n",
    "]\n",
    "result = pd.DataFrame(totals, columns = head)"
   ]
  },
  {
   "cell_type": "code",
   "execution_count": null,
   "metadata": {
    "collapsed": false
   },
   "outputs": [],
   "source": [
    "result"
   ]
  },
  {
   "cell_type": "code",
   "execution_count": null,
   "metadata": {
    "collapsed": true
   },
   "outputs": [],
   "source": [
    "cl4_perc_arrested = (b_4/(b_4 + nb_4))*100\n",
    "cl4_perc_jail = (b_7days_4/(b_7days_4 + nb_7days_4))*100\n",
    "total_4_arrested = b_4 + nb_4\n",
    "total_4_jail = b_7days_4 + nb_7days_4\n",
    "\n",
    "cl23_perc_arrested = ((b_3 + b_2)/(b_3 + b_2 + nb_3 + nb_2))*100\n",
    "cl23_perc_jail = ((b_7days_3 + b_7days_2)/(b_7days_3 + b_7days_2 + nb_7days_3 + nb_7days_2))*100\n",
    "total_23_arrested = b_3 + b_2 + nb_3 + nb_2\n",
    "total_23_jail = b_7days_3 + b_7days_2 + nb_7days_3 + nb_7days_2\n",
    "\n",
    "cl1xm_perc_arrested = ((b_1 + b_x + b_m) / (b_1 + b_x + b_m + nb_1 + nb_x + nb_m))*100\n",
    "cl1xm_perc_jail = ((b_7days_1 + b_7days_x + b_7days_m) / (b_7days_1 + b_7days_x + b_7days_m + nb_7days_1 + nb_7days_x + nb_7days_m))*100\n",
    "total_1xm_arrested = b_1 + b_x + b_m + nb_1 + nb_x + nb_m\n",
    "total_1xm_jail = b_7days_1 + b_7days_x + b_7days_m + nb_7days_1 + nb_7days_x + nb_7days_m\n",
    "\n",
    "head = (\"Felony Class\", \"% Bl. Init Obs\", \"Total Init Obs\", \"% Bl. Jail 7 Days\", \"Total Jail 7 Days\")\n",
    "totals = [\n",
    "    (\"All Misdemeanors\", clmisd_perc_arrested, total_misd_arrested, clmisd_perc_jail, total_misd_jail),\n",
    "    (\"Class 4 Felony\", cl4_perc_arrested, total_4_arrested, cl4_perc_jail, total_4_jail),\n",
    "    (\"Class 2 & 3 Felony\", cl23_perc_arrested, total_23_arrested, cl23_perc_jail, total_23_jail),\n",
    "    (\"Class 1, X & M Felony\", cl1xm_perc_arrested, total_1xm_arrested, cl1xm_perc_jail, total_1xm_jail)\n",
    "]\n",
    "result_grouped = pd.DataFrame(totals, columns = head)"
   ]
  },
  {
   "cell_type": "code",
   "execution_count": null,
   "metadata": {
    "collapsed": false
   },
   "outputs": [],
   "source": [
    "result_grouped"
   ]
  },
  {
   "cell_type": "code",
   "execution_count": null,
   "metadata": {
    "collapsed": true
   },
   "outputs": [],
   "source": [
    "head = [\"Class of Highest Charge\", \"Initial Observed\", \"Still in Jail after 7 Days\", \"% in Jail after 7 Days\" ]\n",
    "\n",
    "totals = [\n",
    "    (\"All Misdemeanors\", total_misd_arrested, total_misd_jail, (total_misd_jail/total_misd_arrested)*100),\n",
    "    (\"Class 4 Felony\", total_4_arrested, total_4_jail, (total_4_jail/total_4_arrested)*100),\n",
    "    (\"Class 2 & 3 Felony\", total_23_arrested, total_23_jail, (total_23_jail/total_23_arrested)*100),\n",
    "    (\"Class 1, X & M Felony\", total_1xm_arrested, total_1xm_jail, (total_1xm_jail/total_1xm_arrested)*100)\n",
    "]\n",
    "\n",
    "result_total = pd.DataFrame(totals, columns = head)"
   ]
  },
  {
   "cell_type": "code",
   "execution_count": null,
   "metadata": {
    "collapsed": false
   },
   "outputs": [],
   "source": [
    "result_total"
   ]
  },
  {
   "cell_type": "code",
   "execution_count": null,
   "metadata": {
    "collapsed": true
   },
   "outputs": [],
   "source": [
    "result_total.to_csv(\"../Output/Total Number of People Staying in Jail by Class.csv\", index = False)"
   ]
  },
  {
   "cell_type": "code",
   "execution_count": null,
   "metadata": {
    "collapsed": true
   },
   "outputs": [],
   "source": [
    "stillin_misd = race_coll.find(\n",
    "    {\"$and\" : [\n",
    "        {\"Race\" : \"BLACK\"},\n",
    "        {\"$or\" : [\n",
    "            {\"Highest Charge Class\" : \"CLASS A MISDEMEANOR\"},\n",
    "            {\"Highest Charge Class\" : \"CLASS B MISDEMEANOR\"},\n",
    "            {\"Highest Charge Class\" : \"CLASS C MISDEMEANOR\"}\n",
    "        ]},\n",
    "        {\"Still in Jail After a Week\" : True},\n",
    "        {\"No Bond\" : False},\n",
    "        {\"Total Bond\" : {\"$ne\" : None}}\n",
    "    ]}\n",
    ")\n",
    "\n",
    "stillin_4 = race_coll.find(\n",
    "    {\"$and\" : [\n",
    "        {\"Race\" : \"BLACK\"},\n",
    "        {\"Highest Charge Class\" : \"CLASS 4 FELONY\"},\n",
    "        {\"Still in Jail After a Week\" : True},\n",
    "        {\"No Bond\" : False},\n",
    "        {\"Total Bond\" : {\"$ne\" : None}}\n",
    "    ]}\n",
    ")\n",
    "\n",
    "stillin_23 = race_coll.find(\n",
    "    {\"$and\" : [\n",
    "        {\"Race\" : \"BLACK\"},\n",
    "        {\"$or\" : [\n",
    "            {\"Highest Charge Class\" : \"CLASS 2 FELONY\"},\n",
    "            {\"Highest Charge Class\" : \"CLASS 3 FELONY\"}\n",
    "        ]},\n",
    "        {\"Still in Jail After a Week\" : True},\n",
    "        {\"No Bond\" : False},\n",
    "        {\"Total Bond\" : {\"$ne\" : None}}\n",
    "    ]}\n",
    ")\n",
    "\n",
    "stillin_1xm = race_coll.find(\n",
    "    {\"$and\" : [\n",
    "        {\"Race\" : \"BLACK\"},\n",
    "        {\"$or\" : [\n",
    "            {\"Highest Charge Class\" : \"CLASS 1 FELONY\"},\n",
    "            {\"Highest Charge Class\" : \"CLASS X FELONY\"},\n",
    "            {\"Highest Charge Class\" : \"CLASS M FELONY\"}\n",
    "        ]},\n",
    "        {\"Still in Jail After a Week\" : True},\n",
    "        {\"No Bond\" : False},\n",
    "        {\"Total Bond\" : {\"$ne\" : None}}\n",
    "    ]}\n",
    ")"
   ]
  },
  {
   "cell_type": "code",
   "execution_count": null,
   "metadata": {
    "collapsed": true
   },
   "outputs": [],
   "source": [
    "jail_count_misd = stillin_misd.count()\n",
    "jail_count_4 = stillin_4.count()\n",
    "jail_count_23 = stillin_23.count()\n",
    "jail_count_1xm = stillin_1xm.count()"
   ]
  },
  {
   "cell_type": "code",
   "execution_count": null,
   "metadata": {
    "collapsed": false
   },
   "outputs": [],
   "source": [
    "jail_count_4"
   ]
  },
  {
   "cell_type": "code",
   "execution_count": null,
   "metadata": {
    "collapsed": false
   },
   "outputs": [],
   "source": [
    "bonds_misd = []\n",
    "for person in stillin_misd:\n",
    "    bonds_misd.append(person[\"Total Bond\"])\n",
    "bonds_4 = []\n",
    "for person in stillin_4:\n",
    "    bonds_4.append(person[\"Total Bond\"])\n",
    "bonds_23 = []\n",
    "for person in stillin_23:\n",
    "    bonds_23.append(person[\"Total Bond\"])\n",
    "bonds_1xm = []\n",
    "for person in stillin_1xm:\n",
    "    bonds_1xm.append(person[\"Total Bond\"])\n",
    "\n",
    "still_in_jail_bonds = [\n",
    "(\"All Misdemeanors\", jail_count_misd, sum(bonds_misd)/jail_count_misd, mode(bonds_misd)),\n",
    "(\"Class 4 Felonies\", jail_count_4, sum(bonds_4)/jail_count_4, mode(bonds_4)),\n",
    "(\"Class 2 & 3 Felonies\", jail_count_23, sum(bonds_23)/jail_count_23, mode(bonds_23)),\n",
    "(\"Class 1, X & M Felonies\", jail_count_1xm, sum(bonds_1xm)/jail_count_1xm, mode(bonds_1xm))\n",
    "]\n",
    "\n",
    "head = [\"Crime Class\", \"Total Still in Jail after 7 Days\", \"Average Bond for Still in Jail after 7 Days\", \"Most Common Bond for Still in Jail after 7 Days\"]\n",
    "\n",
    "injail_bonds = pd.DataFrame(still_in_jail_bonds, columns = head)"
   ]
  },
  {
   "cell_type": "code",
   "execution_count": null,
   "metadata": {
    "collapsed": false
   },
   "outputs": [],
   "source": [
    "injail_bonds"
   ]
  },
  {
   "cell_type": "code",
   "execution_count": null,
   "metadata": {
    "collapsed": true
   },
   "outputs": [],
   "source": [
    "injail_bonds.to_csv(\"../Output/Bonds for People in Jail.csv\", index = False)"
   ]
  },
  {
   "cell_type": "markdown",
   "metadata": {},
   "source": [
    "### Bail by Judge"
   ]
  },
  {
   "cell_type": "code",
   "execution_count": null,
   "metadata": {
    "collapsed": false
   },
   "outputs": [],
   "source": [
    "judge_data = coll.find(\n",
    "    {\"$and\" : [\n",
    "        {\"$or\" : [\n",
    "            {\"Jail Record\" : True},\n",
    "            {\"Arrest Record\" : True},\n",
    "            {\"Court Record\" : True}\n",
    "        ]},\n",
    "        {\"$or\" : [\n",
    "            {\"Days in Jail\" : {\"$lt\" : 15}},\n",
    "            {\"Days in Jail\" : None}\n",
    "        ]},\n",
    "        {\"Judge\" : { \"$ne\" : None}},\n",
    "        {\"Highest Charge Class\" : {\"$ne\" : None}}\n",
    "    ]}\n",
    ")"
   ]
  },
  {
   "cell_type": "code",
   "execution_count": null,
   "metadata": {
    "collapsed": false
   },
   "outputs": [],
   "source": [
    "judge_data.count()"
   ]
  },
  {
   "cell_type": "code",
   "execution_count": null,
   "metadata": {
    "collapsed": true
   },
   "outputs": [],
   "source": [
    "judge_dropdata = coll.find(\n",
    "    {\"$or\" : [\n",
    "        {\"$and\" : [\n",
    "            {\"Jail Record\" : False},\n",
    "            {\"Arrest Record\" : False},\n",
    "            {\"Court Record\" : False}\n",
    "        ]},\n",
    "        {\"Days in Jail\" : {\"$gt\" : 14}},\n",
    "        {\"Judge\" : None},\n",
    "        {\"Highest Charge Class\" : None}\n",
    "    ]}\n",
    ")"
   ]
  },
  {
   "cell_type": "code",
   "execution_count": null,
   "metadata": {
    "collapsed": false
   },
   "outputs": [],
   "source": [
    "judge_dropdata.count()"
   ]
  },
  {
   "cell_type": "code",
   "execution_count": null,
   "metadata": {
    "collapsed": true
   },
   "outputs": [],
   "source": [
    "judge_coll.drop()"
   ]
  },
  {
   "cell_type": "code",
   "execution_count": null,
   "metadata": {
    "collapsed": true
   },
   "outputs": [],
   "source": [
    "judge_coll = bbdb[\"judge_analysis\"]\n",
    "for record in judge_data:\n",
    "    judge_coll.insert_one(record)"
   ]
  },
  {
   "cell_type": "code",
   "execution_count": null,
   "metadata": {
    "collapsed": false
   },
   "outputs": [],
   "source": [
    "all_peeps = judge_coll.find()"
   ]
  },
  {
   "cell_type": "code",
   "execution_count": null,
   "metadata": {
    "collapsed": true
   },
   "outputs": [],
   "source": [
    "head = [\"Judge\", \"Courthouse\", \"Bond\", \"Highest Charge Class\"]\n",
    "grid = []\n",
    "for person in all_peeps:\n",
    "    row = []\n",
    "    row.append(person[\"Judge\"])\n",
    "    row.append(person[\"Courthouse\"])\n",
    "    row.append(person[\"Total Bond\"])\n",
    "    row.append(person[\"Highest Charge Class\"])\n",
    "    grid.append(row)"
   ]
  },
  {
   "cell_type": "code",
   "execution_count": null,
   "metadata": {
    "collapsed": false
   },
   "outputs": [],
   "source": [
    "judge_chart = pd.DataFrame(grid, columns = head)"
   ]
  },
  {
   "cell_type": "code",
   "execution_count": null,
   "metadata": {
    "collapsed": false
   },
   "outputs": [],
   "source": [
    "judge_chart"
   ]
  },
  {
   "cell_type": "code",
   "execution_count": null,
   "metadata": {
    "collapsed": false
   },
   "outputs": [],
   "source": [
    "judge_chart.dropna(inplace = True)"
   ]
  },
  {
   "cell_type": "code",
   "execution_count": null,
   "metadata": {
    "collapsed": false
   },
   "outputs": [],
   "source": [
    "judge_chart"
   ]
  },
  {
   "cell_type": "code",
   "execution_count": null,
   "metadata": {
    "collapsed": false
   },
   "outputs": [],
   "source": [
    "bonds_by_judge = judge_chart.groupby(\"Judge\").describe()"
   ]
  },
  {
   "cell_type": "code",
   "execution_count": null,
   "metadata": {
    "collapsed": false
   },
   "outputs": [],
   "source": [
    "bonds_by_judge.to_csv(\"../Output/Bond by Judge.csv\")"
   ]
  },
  {
   "cell_type": "code",
   "execution_count": null,
   "metadata": {
    "collapsed": false
   },
   "outputs": [],
   "source": [
    "bonds_by_judge_avg = judge_chart.groupby([\"Judge\", \"Courthouse\", \"Highest Charge Class\"])[\"Bond\"].mean()"
   ]
  },
  {
   "cell_type": "code",
   "execution_count": null,
   "metadata": {
    "collapsed": true
   },
   "outputs": [],
   "source": [
    "bonds_by_judge_max = judge_chart.groupby([\"Judge\", \"Courthouse\", \"Highest Charge Class\"])[\"Bond\"].max()"
   ]
  },
  {
   "cell_type": "code",
   "execution_count": null,
   "metadata": {
    "collapsed": true
   },
   "outputs": [],
   "source": [
    "bonds_by_judge_min = judge_chart.groupby([\"Judge\", \"Courthouse\", \"Highest Charge Class\"])[\"Bond\"].min()"
   ]
  },
  {
   "cell_type": "code",
   "execution_count": null,
   "metadata": {
    "collapsed": false
   },
   "outputs": [],
   "source": [
    "bonds_by_judge_avg"
   ]
  },
  {
   "cell_type": "markdown",
   "metadata": {},
   "source": [
    "### Other Searches"
   ]
  },
  {
   "cell_type": "code",
   "execution_count": null,
   "metadata": {
    "collapsed": false
   },
   "outputs": [],
   "source": [
    "missing_df  = pd.read_csv(\"../Output/Still Unmatched Names.csv\", header=None)"
   ]
  },
  {
   "cell_type": "code",
   "execution_count": null,
   "metadata": {
    "collapsed": false
   },
   "outputs": [],
   "source": [
    "grid = []\n",
    "for name in list(missing_df[0]):\n",
    "    row = []\n",
    "    full = name.split()\n",
    "    first = full[0]\n",
    "    last = full[-1]\n",
    "    row.append(last)\n",
    "    row.append(first)\n",
    "    all_peeps = coll.find({\"Last Name\" : last, \"First Name\" : first})\n",
    "    if all_peeps.count() >= 1:\n",
    "        person = all_peeps[0]\n",
    "        row.append(person[\"Bond Court Date\"])\n",
    "        row.append(person[\"Courthouse\"])\n",
    "        row.append(person[\"Judge\"])\n",
    "    else:\n",
    "        full_search = coll.find({\"All Spellings\": \"/\" + name + \"/\"})\n",
    "        if full_search.count() >=1:\n",
    "            person = full_search[0]\n",
    "            row.append(person[\"Bond Court Date\"])\n",
    "            row.append(person[\"Courthouse\"])\n",
    "            row.append(person[\"Judge\"])\n",
    "        else:\n",
    "            print(name)\n",
    "\n",
    "    grid.append(row)"
   ]
  },
  {
   "cell_type": "code",
   "execution_count": null,
   "metadata": {
    "collapsed": true
   },
   "outputs": [],
   "source": [
    "people_plus_courthouse = pd.DataFrame(grid)"
   ]
  },
  {
   "cell_type": "code",
   "execution_count": null,
   "metadata": {
    "collapsed": false
   },
   "outputs": [],
   "source": [
    "people_plus_courthouse"
   ]
  },
  {
   "cell_type": "code",
   "execution_count": null,
   "metadata": {
    "collapsed": true
   },
   "outputs": [],
   "source": [
    "people_plus_courthouse.to_csv(\"../Output/Courthouses and Judges for Missing People.csv\", header=None, index = False)"
   ]
  },
  {
   "cell_type": "markdown",
   "metadata": {},
   "source": [
    "### Close DB Connection"
   ]
  },
  {
   "cell_type": "code",
   "execution_count": null,
   "metadata": {
    "collapsed": true
   },
   "outputs": [],
   "source": [
    "client.close()"
   ]
  },
  {
   "cell_type": "code",
   "execution_count": null,
   "metadata": {
    "collapsed": true
   },
   "outputs": [],
   "source": []
  }
 ],
 "metadata": {
  "kernelspec": {
   "display_name": "Python 3",
   "language": "python",
   "name": "python3"
  },
  "language_info": {
   "codemirror_mode": {
    "name": "ipython",
    "version": 3
   },
   "file_extension": ".py",
   "mimetype": "text/x-python",
   "name": "python",
   "nbconvert_exporter": "python",
   "pygments_lexer": "ipython3",
   "version": "3.5.1"
  }
 },
 "nbformat": 4,
 "nbformat_minor": 0
}
