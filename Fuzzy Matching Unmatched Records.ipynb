{
 "cells": [
  {
   "cell_type": "code",
   "execution_count": null,
   "metadata": {
    "collapsed": true
   },
   "outputs": [],
   "source": [
    "import pandas as pd\n",
    "import numpy as np\n",
    "import datetime\n",
    "import dateparser\n",
    "import dateutil\n",
    "from fuzzywuzzy import fuzz"
   ]
  },
  {
   "cell_type": "code",
   "execution_count": null,
   "metadata": {
    "collapsed": true
   },
   "outputs": [],
   "source": [
    "arrests = pd.read_csv(\"../Data/Original Data/ArrestData.csv\", header=0) #Hand look ups in arrest database, alternative name spellings\n",
    "releases = pd.read_csv(\"../Data/Original Data/ReleaseData.csv\", header=0) #Data dump of arrest database, releases between July 4th and 16th\n",
    "jail_1 = pd.read_csv(\"../Data/Original Data/CookCounty07122016.csv\", header=0) #jail snapshot from July 11, 2016\n",
    "jail_2 = pd.read_csv(\"../Data/Original Data/CookCounty07132016.csv\", header=0) #jail snapshot from July 12, 2016\n",
    "jail_3 = pd.read_csv(\"../Data/Original Data/CookCounty07142016.csv\", header=0) #jail snapshot from July 13, 2016\n",
    "jail_4 = pd.read_csv(\"../Data/Original Data/CookCounty07152016.csv\", header=0) #jail snapshot from July 14, 2016\n",
    "jail_5 = pd.read_csv(\"../Data/Original Data/CookCounty07182016.csv\", header=0) #jail snapshot from July 17, 2016\n",
    "jail_6 = pd.read_csv(\"../Data/Original Data/CookCounty07192016.csv\", header=0) #jail snapshot from July 18, 2016\n",
    "jail_7 = pd.read_csv(\"../Data/Original Data/CookCounty07202016.csv\", header=0) #jail snapshot from July 19, 2016\n",
    "jail_8 = pd.read_csv(\"../Data/Original Data/CookCounty07212016.csv\", header=0) #jail snapshot from July 20, 2016\n",
    "jail_9 = pd.read_csv(\"../Data/Original Data/CookCounty07222016.csv\", header=0) #jail snapshot from July 21, 2016\n",
    "courthouse = pd.read_csv(\"../Data/Original Data/CourthouseAbbreviated.csv\", header=0) #Bond court observations"
   ]
  },
  {
   "cell_type": "code",
   "execution_count": null,
   "metadata": {
    "collapsed": true
   },
   "outputs": [],
   "source": [
    "arrest_names = set([])\n",
    "jail_1_names = set([])\n",
    "jail_2_names = set([])\n",
    "jail_3_names = set([])\n",
    "jail_4_names = set([])\n",
    "jail_5_names = set([])\n",
    "jail_6_names = set([])\n",
    "jail_7_names = set([])\n",
    "jail_8_names = set([])\n",
    "jail_9_names = set([])\n",
    "\n",
    "all_jail_sets = [(jail_1, jail_1_names), (jail_2, jail_2_names), (jail_3, jail_3_names), (jail_4, jail_4_names), \\\n",
    "(jail_5, jail_5_names), (jail_6, jail_6_names), (jail_7, jail_7_names), (jail_8, jail_8_names), (jail_9, jail_9_names)]"
   ]
  },
  {
   "cell_type": "code",
   "execution_count": null,
   "metadata": {
    "collapsed": false
   },
   "outputs": [],
   "source": [
    "for i, row in releases.iterrows():\n",
    "    name = row[\"first_name\"] + \" \" + row[\"last_name\"]\n",
    "    arrest_names.add(name)\n",
    "for jail, name_list in all_jail_sets:    \n",
    "    for i, row in jail.iterrows():\n",
    "        name = row[\"InmateFirst\"] + \" \" + row[\"InmateLast\"]\n",
    "        name_list.add(name)"
   ]
  },
  {
   "cell_type": "code",
   "execution_count": null,
   "metadata": {
    "collapsed": true
   },
   "outputs": [],
   "source": [
    "data_sets = {\"Arrest Record\" : arrest_names,\n",
    "datetime.date(2016, 7, 12) : jail_1_names,\n",
    "datetime.date(2016, 7, 13) : jail_2_names,\n",
    "datetime.date(2016, 7, 14) : jail_3_names,\n",
    "datetime.date(2016, 7, 15) : jail_4_names,\n",
    "datetime.date(2016, 7, 18) : jail_5_names,\n",
    "datetime.date(2016, 7, 19) : jail_6_names,\n",
    "datetime.date(2016, 7, 20) : jail_7_names,\n",
    "datetime.date(2016, 7, 21) : jail_8_names,\n",
    "datetime.date(2016, 7, 22) : jail_9_names}"
   ]
  },
  {
   "cell_type": "code",
   "execution_count": null,
   "metadata": {
    "collapsed": true
   },
   "outputs": [],
   "source": [
    "unmatched_names = pd.read_csv(\"Missing People.csv\", header=0)"
   ]
  },
  {
   "cell_type": "code",
   "execution_count": null,
   "metadata": {
    "collapsed": false
   },
   "outputs": [],
   "source": [
    "unmatched_indis = {}\n",
    "for i, row in unmatched_names.iterrows():\n",
    "    name = row[\"First Name\"] + \" \" + row[\"Last Name\"]\n",
    "    unmatched_indis[name] = {}\n",
    "    for key, name_list in data_sets.items():\n",
    "        for c_name in name_list:\n",
    "            if fuzz.token_sort_ratio(name, c_name) >= 90:\n",
    "                if key in unmatched_indis[name].keys():\n",
    "                    unmatched_indis[name][key].append(c_name)\n",
    "                else:\n",
    "                    unmatched_indis[name][key] = [c_name]"
   ]
  },
  {
   "cell_type": "code",
   "execution_count": null,
   "metadata": {
    "collapsed": false
   },
   "outputs": [],
   "source": [
    "len(unmatched_indis)"
   ]
  },
  {
   "cell_type": "code",
   "execution_count": null,
   "metadata": {
    "collapsed": false
   },
   "outputs": [],
   "source": [
    "still_unmatched = []\n",
    "for indi, matches in unmatched_indis.items():\n",
    "    if len(matches) == 0:\n",
    "        still_unmatched.append(indi)"
   ]
  },
  {
   "cell_type": "code",
   "execution_count": null,
   "metadata": {
    "collapsed": true
   },
   "outputs": [],
   "source": [
    "for name in still_unmatched:\n",
    "    del unmatched_indis[name]"
   ]
  },
  {
   "cell_type": "code",
   "execution_count": null,
   "metadata": {
    "collapsed": false
   },
   "outputs": [],
   "source": [
    "len(unmatched_indis)"
   ]
  },
  {
   "cell_type": "code",
   "execution_count": null,
   "metadata": {
    "collapsed": true
   },
   "outputs": [],
   "source": [
    "match_90 = unmatched_indis"
   ]
  },
  {
   "cell_type": "code",
   "execution_count": null,
   "metadata": {
    "collapsed": false
   },
   "outputs": [],
   "source": [
    "match_80 = {}\n",
    "for name in still_unmatched:\n",
    "    match_80[name] = {}\n",
    "    for key, name_list in data_sets.items():\n",
    "        for c_name in name_list:\n",
    "            if fuzz.token_sort_ratio(name, c_name) >= 80:\n",
    "                if key in match_80[name].keys():\n",
    "                    match_80[name][key].append(c_name)\n",
    "                else:\n",
    "                    match_80[name][key] = [c_name]"
   ]
  },
  {
   "cell_type": "code",
   "execution_count": null,
   "metadata": {
    "collapsed": false
   },
   "outputs": [],
   "source": [
    "len(match_80)"
   ]
  },
  {
   "cell_type": "code",
   "execution_count": null,
   "metadata": {
    "collapsed": false
   },
   "outputs": [],
   "source": [
    "still_unmatched = []\n",
    "for indi, matches in match_80.items():\n",
    "    if len(matches) == 0:\n",
    "        still_unmatched.append(indi)\n",
    "        \n",
    "for name in still_unmatched:\n",
    "    del match_80[name]"
   ]
  },
  {
   "cell_type": "code",
   "execution_count": null,
   "metadata": {
    "collapsed": false
   },
   "outputs": [],
   "source": [
    "len(match_80)"
   ]
  }
 ],
 "metadata": {
  "kernelspec": {
   "display_name": "Python 3",
   "language": "python",
   "name": "python3"
  },
  "language_info": {
   "codemirror_mode": {
    "name": "ipython",
    "version": 3
   },
   "file_extension": ".py",
   "mimetype": "text/x-python",
   "name": "python",
   "nbconvert_exporter": "python",
   "pygments_lexer": "ipython3",
   "version": "3.5.1"
  }
 },
 "nbformat": 4,
 "nbformat_minor": 0
}
